{
 "cells": [
  {
   "cell_type": "markdown",
   "metadata": {},
   "source": [
    "# How to Read and Write From DIGGIE"
   ]
  },
  {
   "cell_type": "markdown",
   "metadata": {},
   "source": [
    "### Read DIGGIE"
   ]
  },
  {
   "cell_type": "code",
   "execution_count": 1,
   "metadata": {},
   "outputs": [],
   "source": [
    "import pyodbc\n",
    "import pandas as pd"
   ]
  },
  {
   "cell_type": "markdown",
   "metadata": {},
   "source": [
    "##### If you do not have the pyodbc library, you can do a conda install by opening the Anaconda Prompt and entering: \n",
    "\n",
    "        conda install -c anaconda pyodbc"
   ]
  },
  {
   "cell_type": "markdown",
   "metadata": {},
   "source": [
    "##### Connection Details:"
   ]
  },
  {
   "cell_type": "code",
   "execution_count": 2,
   "metadata": {},
   "outputs": [],
   "source": [
    "server = 'bieno-da-s-00000-unilevercom-sql-01-scna.database.windows.net'\n",
    "database = '********'\n",
    "username = '******'\n",
    "password = '*******'\n",
    "driver = '{ODBC Driver 13 for SQL Server}'  # You might need to edit this part\n",
    "port = '3306'"
   ]
  },
  {
   "cell_type": "markdown",
   "metadata": {},
   "source": [
    "##### The SQL Query:"
   ]
  },
  {
   "cell_type": "code",
   "execution_count": 3,
   "metadata": {},
   "outputs": [],
   "source": [
    "sql = '''\n",
    "SELECT TOP 5 * FROM [MASTER].[FactSalesDocHeader]\n",
    "'''"
   ]
  },
  {
   "cell_type": "markdown",
   "metadata": {},
   "source": [
    "##### Run the Query and assign to 'df'"
   ]
  },
  {
   "cell_type": "code",
   "execution_count": 4,
   "metadata": {},
   "outputs": [],
   "source": [
    "connection_string = 'DRIVER={};SERVER={};PORT={};DATABASE={};UID={};PWD={}'.format(\n",
    "    driver, server, port, database, username, password)\n",
    "cnxn = pyodbc.connect(connection_string)\n",
    "df = pd.read_sql(sql, cnxn)  # Can be assigned to any variable name\n",
    "cnxn.close()"
   ]
  },
  {
   "cell_type": "markdown",
   "metadata": {},
   "source": [
    "##### Test it out:"
   ]
  },
  {
   "cell_type": "code",
   "execution_count": 5,
   "metadata": {},
   "outputs": [
    {
     "data": {
      "text/html": [
       "<div>\n",
       "<style scoped>\n",
       "    .dataframe tbody tr th:only-of-type {\n",
       "        vertical-align: middle;\n",
       "    }\n",
       "\n",
       "    .dataframe tbody tr th {\n",
       "        vertical-align: top;\n",
       "    }\n",
       "\n",
       "    .dataframe thead th {\n",
       "        text-align: right;\n",
       "    }\n",
       "</style>\n",
       "<table border=\"1\" class=\"dataframe\">\n",
       "  <thead>\n",
       "    <tr style=\"text-align: right;\">\n",
       "      <th></th>\n",
       "      <th>SalesDocumentNumber</th>\n",
       "      <th>SalesDocumentType</th>\n",
       "      <th>CreatedOn</th>\n",
       "      <th>SoldToParty</th>\n",
       "      <th>DeliveryBlock</th>\n",
       "      <th>SalesDocumentCategory</th>\n",
       "      <th>DeliveryDate</th>\n",
       "      <th>SalesOrganization</th>\n",
       "      <th>DistributionChannel</th>\n",
       "      <th>OrderHeaderDivision</th>\n",
       "      <th>...</th>\n",
       "      <th>OriginalItemPalletCount</th>\n",
       "      <th>NumberOfOriginalPallets</th>\n",
       "      <th>RequestedDeliveryDate</th>\n",
       "      <th>RadDateChangeIndicator</th>\n",
       "      <th>RequestedArrivalTime</th>\n",
       "      <th>RequiredDeliveryTimeMargin</th>\n",
       "      <th>RequiredDeliveryTimeMargin2</th>\n",
       "      <th>LastChangedOn</th>\n",
       "      <th>NumberOfDocumentCondition</th>\n",
       "      <th>DateStamp</th>\n",
       "    </tr>\n",
       "  </thead>\n",
       "  <tbody>\n",
       "    <tr>\n",
       "      <th>0</th>\n",
       "      <td>0023284758</td>\n",
       "      <td>ZQTT</td>\n",
       "      <td>2018-01-02</td>\n",
       "      <td>0010439146</td>\n",
       "      <td>None</td>\n",
       "      <td>C</td>\n",
       "      <td>2018-01-02</td>\n",
       "      <td>MX01</td>\n",
       "      <td>01</td>\n",
       "      <td>20</td>\n",
       "      <td>...</td>\n",
       "      <td>0.000</td>\n",
       "      <td>0.000</td>\n",
       "      <td>None</td>\n",
       "      <td>None</td>\n",
       "      <td>00:00:00</td>\n",
       "      <td>00:00:00</td>\n",
       "      <td>00:00:00</td>\n",
       "      <td>2018-01-02</td>\n",
       "      <td>0184363203</td>\n",
       "      <td>2018-01-02 16:31:26</td>\n",
       "    </tr>\n",
       "    <tr>\n",
       "      <th>1</th>\n",
       "      <td>0023284759</td>\n",
       "      <td>ZQTT</td>\n",
       "      <td>2018-01-02</td>\n",
       "      <td>0010774703</td>\n",
       "      <td>None</td>\n",
       "      <td>C</td>\n",
       "      <td>2018-01-02</td>\n",
       "      <td>MX01</td>\n",
       "      <td>01</td>\n",
       "      <td>20</td>\n",
       "      <td>...</td>\n",
       "      <td>0.000</td>\n",
       "      <td>0.000</td>\n",
       "      <td>None</td>\n",
       "      <td>None</td>\n",
       "      <td>00:00:00</td>\n",
       "      <td>00:00:00</td>\n",
       "      <td>00:00:00</td>\n",
       "      <td>2018-01-02</td>\n",
       "      <td>0184363204</td>\n",
       "      <td>2018-01-02 16:31:26</td>\n",
       "    </tr>\n",
       "    <tr>\n",
       "      <th>2</th>\n",
       "      <td>0023284760</td>\n",
       "      <td>ZQTT</td>\n",
       "      <td>2018-01-02</td>\n",
       "      <td>0030098741</td>\n",
       "      <td>None</td>\n",
       "      <td>C</td>\n",
       "      <td>2018-01-02</td>\n",
       "      <td>MX01</td>\n",
       "      <td>01</td>\n",
       "      <td>20</td>\n",
       "      <td>...</td>\n",
       "      <td>0.000</td>\n",
       "      <td>0.000</td>\n",
       "      <td>None</td>\n",
       "      <td>None</td>\n",
       "      <td>00:00:00</td>\n",
       "      <td>00:00:00</td>\n",
       "      <td>00:00:00</td>\n",
       "      <td>2018-01-02</td>\n",
       "      <td>0184363205</td>\n",
       "      <td>2018-01-02 16:31:26</td>\n",
       "    </tr>\n",
       "    <tr>\n",
       "      <th>3</th>\n",
       "      <td>0023290237</td>\n",
       "      <td>ZQTT</td>\n",
       "      <td>2018-01-02</td>\n",
       "      <td>0030484672</td>\n",
       "      <td>None</td>\n",
       "      <td>C</td>\n",
       "      <td>2017-12-29</td>\n",
       "      <td>0001</td>\n",
       "      <td>10</td>\n",
       "      <td>11</td>\n",
       "      <td>...</td>\n",
       "      <td>0.000</td>\n",
       "      <td>0.000</td>\n",
       "      <td>2017-12-29</td>\n",
       "      <td>None</td>\n",
       "      <td>00:00:00</td>\n",
       "      <td>00:00:00</td>\n",
       "      <td>00:00:00</td>\n",
       "      <td>2018-01-02</td>\n",
       "      <td>0184365396</td>\n",
       "      <td>2018-01-02 16:31:26</td>\n",
       "    </tr>\n",
       "    <tr>\n",
       "      <th>4</th>\n",
       "      <td>0023290238</td>\n",
       "      <td>ZQTT</td>\n",
       "      <td>2018-01-02</td>\n",
       "      <td>0030145903</td>\n",
       "      <td>None</td>\n",
       "      <td>C</td>\n",
       "      <td>2017-12-29</td>\n",
       "      <td>0001</td>\n",
       "      <td>10</td>\n",
       "      <td>11</td>\n",
       "      <td>...</td>\n",
       "      <td>0.000</td>\n",
       "      <td>0.000</td>\n",
       "      <td>2017-12-29</td>\n",
       "      <td>None</td>\n",
       "      <td>00:00:00</td>\n",
       "      <td>00:00:00</td>\n",
       "      <td>00:00:00</td>\n",
       "      <td>2018-01-03</td>\n",
       "      <td>0184365676</td>\n",
       "      <td>2018-01-03 16:28:49</td>\n",
       "    </tr>\n",
       "  </tbody>\n",
       "</table>\n",
       "<p>5 rows × 53 columns</p>\n",
       "</div>"
      ],
      "text/plain": [
       "  SalesDocumentNumber SalesDocumentType   CreatedOn SoldToParty DeliveryBlock  \\\n",
       "0          0023284758              ZQTT  2018-01-02  0010439146          None   \n",
       "1          0023284759              ZQTT  2018-01-02  0010774703          None   \n",
       "2          0023284760              ZQTT  2018-01-02  0030098741          None   \n",
       "3          0023290237              ZQTT  2018-01-02  0030484672          None   \n",
       "4          0023290238              ZQTT  2018-01-02  0030145903          None   \n",
       "\n",
       "  SalesDocumentCategory DeliveryDate SalesOrganization DistributionChannel  \\\n",
       "0                    C    2018-01-02              MX01                  01   \n",
       "1                    C    2018-01-02              MX01                  01   \n",
       "2                    C    2018-01-02              MX01                  01   \n",
       "3                    C    2017-12-29              0001                  10   \n",
       "4                    C    2017-12-29              0001                  10   \n",
       "\n",
       "  OrderHeaderDivision         ...         OriginalItemPalletCount  \\\n",
       "0                  20         ...                           0.000   \n",
       "1                  20         ...                           0.000   \n",
       "2                  20         ...                           0.000   \n",
       "3                  11         ...                           0.000   \n",
       "4                  11         ...                           0.000   \n",
       "\n",
       "  NumberOfOriginalPallets RequestedDeliveryDate RadDateChangeIndicator  \\\n",
       "0                   0.000                  None                   None   \n",
       "1                   0.000                  None                   None   \n",
       "2                   0.000                  None                   None   \n",
       "3                   0.000            2017-12-29                   None   \n",
       "4                   0.000            2017-12-29                   None   \n",
       "\n",
       "  RequestedArrivalTime RequiredDeliveryTimeMargin RequiredDeliveryTimeMargin2  \\\n",
       "0             00:00:00                   00:00:00                    00:00:00   \n",
       "1             00:00:00                   00:00:00                    00:00:00   \n",
       "2             00:00:00                   00:00:00                    00:00:00   \n",
       "3             00:00:00                   00:00:00                    00:00:00   \n",
       "4             00:00:00                   00:00:00                    00:00:00   \n",
       "\n",
       "  LastChangedOn NumberOfDocumentCondition           DateStamp  \n",
       "0    2018-01-02                0184363203 2018-01-02 16:31:26  \n",
       "1    2018-01-02                0184363204 2018-01-02 16:31:26  \n",
       "2    2018-01-02                0184363205 2018-01-02 16:31:26  \n",
       "3    2018-01-02                0184365396 2018-01-02 16:31:26  \n",
       "4    2018-01-03                0184365676 2018-01-03 16:28:49  \n",
       "\n",
       "[5 rows x 53 columns]"
      ]
     },
     "execution_count": 5,
     "metadata": {},
     "output_type": "execute_result"
    }
   ],
   "source": [
    "df"
   ]
  },
  {
   "cell_type": "markdown",
   "metadata": {},
   "source": [
    "---"
   ]
  },
  {
   "cell_type": "markdown",
   "metadata": {},
   "source": [
    "### Write to DIGGIE"
   ]
  },
  {
   "cell_type": "code",
   "execution_count": 6,
   "metadata": {},
   "outputs": [],
   "source": [
    "import pandas as pd\n",
    "import numpy as np\n",
    "import pyodbc\n",
    "from sqlalchemy import create_engine"
   ]
  },
  {
   "cell_type": "markdown",
   "metadata": {},
   "source": [
    "##### Create a sample data frame to write to DIGGIE:"
   ]
  },
  {
   "cell_type": "code",
   "execution_count": 7,
   "metadata": {},
   "outputs": [],
   "source": [
    "df = pd.DataFrame({'x': [1, 2, 3, 4, 5], 'y': ['a', 'b', 'c', 'd', 'e']})"
   ]
  },
  {
   "cell_type": "markdown",
   "metadata": {},
   "source": [
    "##### Connection Details:"
   ]
  },
  {
   "cell_type": "code",
   "execution_count": 8,
   "metadata": {},
   "outputs": [],
   "source": [
    "server = 'bieno-da-s-00000-unilevercom-sql-01-scna.database.windows.net'\n",
    "database = '********'\n",
    "username = '******'\n",
    "password = '*******'\n",
    "driver = 'ODBC Driver 13 for SQL Server'  # You might need to edit this part\n",
    "port = '1433'"
   ]
  },
  {
   "cell_type": "markdown",
   "metadata": {},
   "source": [
    "##### Specify the schema, table name, and action to perform if the table already exist:"
   ]
  },
  {
   "cell_type": "code",
   "execution_count": 9,
   "metadata": {},
   "outputs": [],
   "source": [
    "schema = 'TEST'\n",
    "table = 'test_of_target_import'\n",
    "if_exists = 'fail'  # 'fail', 'replace', or 'append'"
   ]
  },
  {
   "cell_type": "markdown",
   "metadata": {},
   "source": [
    "##### Write the data frame to DIGGIE:"
   ]
  },
  {
   "cell_type": "code",
   "execution_count": 10,
   "metadata": {},
   "outputs": [],
   "source": [
    "connection_string = 'mssql+pyodbc://{}:{}@{}:1433/{}?driver={}'.format(\n",
    "    username, password, server, database, driver.replace(' ', '+'))\n",
    "engine = create_engine(connection_string)\n",
    "df.to_sql(table, engine, schema = schema, if_exists = if_exists, index=False)\n",
    "engine.dispose()"
   ]
  },
  {
   "cell_type": "code",
   "execution_count": null,
   "metadata": {},
   "outputs": [],
   "source": []
  }
 ],
 "metadata": {
  "kernelspec": {
   "display_name": "Python 3",
   "language": "python",
   "name": "python3"
  },
  "language_info": {
   "codemirror_mode": {
    "name": "ipython",
    "version": 3
   },
   "file_extension": ".py",
   "mimetype": "text/x-python",
   "name": "python",
   "nbconvert_exporter": "python",
   "pygments_lexer": "ipython3",
   "version": "3.7.3"
  }
 },
 "nbformat": 4,
 "nbformat_minor": 2
}
