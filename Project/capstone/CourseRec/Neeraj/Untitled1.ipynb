{
 "cells": [
  {
   "cell_type": "code",
   "execution_count": 1,
   "metadata": {},
   "outputs": [],
   "source": [
    "from selenium import webdriver\n",
    "#from bs4 import BeautifulSoup # For HTML parsing\n",
    "from time import sleep # To prevent overwhelming the server between connections\n",
    "from collections import Counter # Keep track of our term counts\n",
    "from nltk.corpus import stopwords # Filter out stopwords, such as 'the', 'or', 'and'\n",
    "import pandas as pd # For converting results to a dataframe and bar chart plots\n",
    "from selenium.webdriver.common import action_chains, keys\n",
    "from selenium.common.exceptions import NoSuchElementException\n",
    "from selenium.webdriver.support.ui import WebDriverWait\n",
    "from selenium.webdriver.support import expected_conditions as EC\n",
    "import numpy as np\n",
    "import pickle\n",
    "import re\n",
    "import csv\n",
    "import os.path\n",
    "#from collections import OrderedDict\n",
    "import warnings\n",
    "warnings.filterwarnings(\"ignore\", message=\"numpy.dtype size changed\")\n",
    "warnings.filterwarnings(\"ignore\", message=\"numpy.ufunc size changed\")"
   ]
  },
  {
   "cell_type": "code",
   "execution_count": 2,
   "metadata": {
    "collapsed": true
   },
   "outputs": [],
   "source": [
    "from helper import load_obj, save_obj, init_driver, searchJobs, text_cleaner, get_pause, string_from_text, get_csv3"
   ]
  },
  {
   "cell_type": "code",
   "execution_count": 3,
   "metadata": {
    "collapsed": true
   },
   "outputs": [],
   "source": [
    "pickle_in = open(\"glassDoorDict.pkl\",\"rb\")\n",
    "example_dict = pickle.load(pickle_in)"
   ]
  },
  {
   "cell_type": "code",
   "execution_count": 7,
   "metadata": {
    "collapsed": true
   },
   "outputs": [],
   "source": [
    "from itertools import islice\n",
    "\n",
    "def take(n, iterable):\n",
    "    \"Return first n items of the iterable as a list\"\n",
    "    return list(islice(iterable, n))"
   ]
  },
  {
   "cell_type": "code",
   "execution_count": 10,
   "metadata": {},
   "outputs": [],
   "source": [
    "n_items = take(5, example_dict.items())"
   ]
  },
  {
   "cell_type": "code",
   "execution_count": 11,
   "metadata": {},
   "outputs": [
    {
     "data": {
      "text/plain": [
       "[('3234690868',\n",
       "  ['4.0',\n",
       "   'data scientist',\n",
       "   '',\n",
       "   '',\n",
       "   '',\n",
       "   nan,\n",
       "   nan,\n",
       "   'https://www.glassdoor.com/partner/jobListing.htm?pos=101&ao=448831&s=149&guid=0000016d1c5f99d7aad7c9f1b107db4f&src=GD_JOB_AD&t=SRFJ&extid=4&exst=OL&ist=&ast=OL&vt=w&slr=true&cs=1_b3742de8&cb=1568139091040&jobListingId=3234690868']),\n",
       " ('3194660511',\n",
       "  ['3.5',\n",
       "   'data scientist - new college grad',\n",
       "   '',\n",
       "   '',\n",
       "   '',\n",
       "   nan,\n",
       "   nan,\n",
       "   'https://www.glassdoor.com/partner/jobListing.htm?pos=102&ao=736317&s=149&guid=0000016d1c5f99d7aad7c9f1b107db4f&src=GD_JOB_AD&t=SRFJ&extid=4&exst=OL&ist=&ast=OL&vt=w&slr=true&cs=1_8fb98431&cb=1568139091044&jobListingId=3194660511']),\n",
       " ('3338713655',\n",
       "  ['3.8',\n",
       "   'data analyst, growth',\n",
       "   '',\n",
       "   '',\n",
       "   '',\n",
       "   nan,\n",
       "   nan,\n",
       "   'https://www.glassdoor.com/partner/jobListing.htm?pos=101&ao=663186&s=58&guid=0000016d1c5f99d79a20ffd28dd21608&src=GD_JOB_AD&t=SR&extid=1&exst=OL&ist=&ast=OL&vt=w&slr=true&ea=1&cs=1_06c94969&cb=1568139091047&jobListingId=3338713655']),\n",
       " ('3334434024',\n",
       "  ['3.9',\n",
       "   'data scientist',\n",
       "   '',\n",
       "   '',\n",
       "   '',\n",
       "   nan,\n",
       "   nan,\n",
       "   'https://www.glassdoor.com/partner/jobListing.htm?pos=102&ao=623348&s=58&guid=0000016d1c5f99d79a20ffd28dd21608&src=GD_JOB_AD&t=SR&extid=1&exst=OL&ist=&ast=OL&vt=w&slr=true&cs=1_5ab225e7&cb=1568139091050&jobListingId=3334434024']),\n",
       " ('3325221823',\n",
       "  ['3.8',\n",
       "   'data analyst – university graduate',\n",
       "   '',\n",
       "   '',\n",
       "   '',\n",
       "   nan,\n",
       "   nan,\n",
       "   'https://www.glassdoor.com/partner/jobListing.htm?pos=103&ao=566191&s=58&guid=0000016d1c5f99d79a20ffd28dd21608&src=GD_JOB_AD&t=SR&extid=1&exst=OL&ist=&ast=OL&vt=w&slr=true&cs=1_04be166c&cb=1568139091053&jobListingId=3325221823'])]"
      ]
     },
     "execution_count": 11,
     "metadata": {},
     "output_type": "execute_result"
    }
   ],
   "source": [
    "n_items"
   ]
  },
  {
   "cell_type": "code",
   "execution_count": 13,
   "metadata": {},
   "outputs": [
    {
     "data": {
      "text/plain": [
       "[('3234690868',\n",
       "  'https://www.glassdoor.com/partner/jobListing.htm?pos=101&ao=448831&s=149&guid=0000016d1c5f99d7aad7c9f1b107db4f&src=GD_JOB_AD&t=SRFJ&extid=4&exst=OL&ist=&ast=OL&vt=w&slr=true&cs=1_b3742de8&cb=1568139091040&jobListingId=3234690868'),\n",
       " ('3194660511',\n",
       "  'https://www.glassdoor.com/partner/jobListing.htm?pos=102&ao=736317&s=149&guid=0000016d1c5f99d7aad7c9f1b107db4f&src=GD_JOB_AD&t=SRFJ&extid=4&exst=OL&ist=&ast=OL&vt=w&slr=true&cs=1_8fb98431&cb=1568139091044&jobListingId=3194660511'),\n",
       " ('3338713655',\n",
       "  'https://www.glassdoor.com/partner/jobListing.htm?pos=101&ao=663186&s=58&guid=0000016d1c5f99d79a20ffd28dd21608&src=GD_JOB_AD&t=SR&extid=1&exst=OL&ist=&ast=OL&vt=w&slr=true&ea=1&cs=1_06c94969&cb=1568139091047&jobListingId=3338713655'),\n",
       " ('3334434024',\n",
       "  'https://www.glassdoor.com/partner/jobListing.htm?pos=102&ao=623348&s=58&guid=0000016d1c5f99d79a20ffd28dd21608&src=GD_JOB_AD&t=SR&extid=1&exst=OL&ist=&ast=OL&vt=w&slr=true&cs=1_5ab225e7&cb=1568139091050&jobListingId=3334434024'),\n",
       " ('3325221823',\n",
       "  'https://www.glassdoor.com/partner/jobListing.htm?pos=103&ao=566191&s=58&guid=0000016d1c5f99d79a20ffd28dd21608&src=GD_JOB_AD&t=SR&extid=1&exst=OL&ist=&ast=OL&vt=w&slr=true&cs=1_04be166c&cb=1568139091053&jobListingId=3325221823')]"
      ]
     },
     "execution_count": 13,
     "metadata": {},
     "output_type": "execute_result"
    }
   ],
   "source": [
    "pickle_link = open(\"glassDoorlink.pkl\",\"rb\")\n",
    "example_link = pickle.load(pickle_link)\n",
    "example_link[0:5]"
   ]
  },
  {
   "cell_type": "code",
   "execution_count": null,
   "metadata": {
    "collapsed": true
   },
   "outputs": [],
   "source": []
  }
 ],
 "metadata": {
  "kernelspec": {
   "display_name": "Python 3",
   "language": "python",
   "name": "python3"
  },
  "language_info": {
   "codemirror_mode": {
    "name": "ipython",
    "version": 3
   },
   "file_extension": ".py",
   "mimetype": "text/x-python",
   "name": "python",
   "nbconvert_exporter": "python",
   "pygments_lexer": "ipython3",
   "version": "3.6.3"
  }
 },
 "nbformat": 4,
 "nbformat_minor": 2
}
