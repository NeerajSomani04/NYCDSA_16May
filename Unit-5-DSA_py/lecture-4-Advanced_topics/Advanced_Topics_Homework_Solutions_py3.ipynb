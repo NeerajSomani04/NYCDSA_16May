{
 "cells": [
  {
   "cell_type": "markdown",
   "metadata": {},
   "source": [
    "<p><a name=\"home\"></a></p>\n",
    "# Homework"
   ]
  },
  {
   "cell_type": "markdown",
   "metadata": {},
   "source": [
    "### Problem 1\n",
    "\n",
    "- Define a function called `search()` that takes a keyword and the name of a file as input. \n",
    "- Open the file and iterate through the file object line by line. If you find the keyword in the line, yield it.\n",
    "- Also show how would you call the function and iterate through the generator."
   ]
  },
  {
   "cell_type": "code",
   "execution_count": null,
   "metadata": {
    "collapsed": true
   },
   "outputs": [],
   "source": [
    "def search(keyword, filename):\n",
    "    #### Your code here\n",
    "    print('generator started')\n",
    "    f = open(filename, 'r')\n",
    "    # Looping through the file line by line\n",
    "    for line in f:\n",
    "        if keyword in line:\n",
    "            # If keyword found, return it\n",
    "            yield line\n",
    "    f.close()\n",
    "\n",
    "text_generator = search('test', 'example.txt')\n",
    "for text in text_generator:\n",
    "    print(text)"
   ]
  },
  {
   "cell_type": "markdown",
   "metadata": {},
   "source": [
    "### Problem 2\n",
    "\n",
    "Flatten a list:\n",
    "\n",
    "- Write a function called `chain_list()` to turn [[1, 2, 3], [4, 5], [6, 7, 8]] into [1, 2, 3, 4, 5, 6, 7, 8].\n",
    "- Check the [itertools](https://docs.python.org/2/library/itertools.html) packages and see if you can find a function that does the same thing.\n",
    "- **Note**: it returns a generator instead of a list."
   ]
  },
  {
   "cell_type": "code",
   "execution_count": 26,
   "metadata": {
    "collapsed": true
   },
   "outputs": [],
   "source": [
    "def chain_list(nested_list):\n",
    "    # Your code here\n",
    "    result = []\n",
    "    for list_ in nested_list:\n",
    "        for element in list_:\n",
    "            result.append(element)\n",
    "    return result"
   ]
  },
  {
   "cell_type": "code",
   "execution_count": 27,
   "metadata": {
    "collapsed": true
   },
   "outputs": [],
   "source": [
    "from itertools import chain\n",
    "def chain_list(nested_list):\n",
    "    return list(chain(*nested_list))"
   ]
  },
  {
   "cell_type": "code",
   "execution_count": 28,
   "metadata": {},
   "outputs": [
    {
     "data": {
      "text/plain": [
       "[1, 2, 3, 4, 5, 6, 7, 8]"
      ]
     },
     "execution_count": 28,
     "metadata": {},
     "output_type": "execute_result"
    }
   ],
   "source": [
    "chain_list([[1, 2, 3], [4, 5], [6, 7, 8]])"
   ]
  },
  {
   "cell_type": "markdown",
   "metadata": {},
   "source": [
    "### Problem 3\n",
    "\n",
    "- Create a class called `BankAccount` with the following attributes and methods:\n",
    " - Attributes: \n",
    "   - name(string): instance variable, make it private;\n",
    "   - balance(number): instance variable, make it private;\n",
    " - Methods: \n",
    "   - `__init__(self, name, balance)`: initialize a BankAccount object with a string and a number.\n",
    "   - `deposit(self, n)`: add n to the balance\n",
    "   - `withdraw(self, n)`: subtract n from the balance, if n > balance, `raise ValueError(\"You don't have enough money!\")`\n",
    "   - `check_balance`: print out the remaining balance of the account. "
   ]
  },
  {
   "cell_type": "code",
   "execution_count": 42,
   "metadata": {
    "collapsed": true
   },
   "outputs": [],
   "source": [
    "class BankAccount(object):\n",
    "    # Your code here\n",
    "    def __init__(self, name, balance):\n",
    "        self.__name = name\n",
    "        self.__balance = balance\n",
    "    \n",
    "    def deposit(self, n):\n",
    "        self.__balance += n\n",
    "        \n",
    "    def withdraw(self, n):\n",
    "        if n > self.__balance:\n",
    "            raise ValueError(\"You don't have enough money!\")\n",
    "        self.__balance -= n\n",
    "        \n",
    "    def check_balance(self):\n",
    "        print('Your current balance is {}'.format(self.__balance))"
   ]
  },
  {
   "cell_type": "code",
   "execution_count": 43,
   "metadata": {},
   "outputs": [
    {
     "name": "stdout",
     "output_type": "stream",
     "text": [
      "Your current balance is 2000\n"
     ]
    },
    {
     "ename": "ValueError",
     "evalue": "You don't have enough money!",
     "output_type": "error",
     "traceback": [
      "\u001b[0;31m---------------------------------------------------------------------------\u001b[0m",
      "\u001b[0;31mValueError\u001b[0m                                Traceback (most recent call last)",
      "\u001b[0;32m<ipython-input-43-7dfa9b71ba7c>\u001b[0m in \u001b[0;36m<module>\u001b[0;34m()\u001b[0m\n\u001b[1;32m      2\u001b[0m \u001b[0maccount\u001b[0m\u001b[0;34m.\u001b[0m\u001b[0mcheck_balance\u001b[0m\u001b[0;34m(\u001b[0m\u001b[0;34m)\u001b[0m\u001b[0;34m\u001b[0m\u001b[0m\n\u001b[1;32m      3\u001b[0m \u001b[0maccount\u001b[0m\u001b[0;34m.\u001b[0m\u001b[0mdeposit\u001b[0m\u001b[0;34m(\u001b[0m\u001b[0;36m500\u001b[0m\u001b[0;34m)\u001b[0m\u001b[0;34m\u001b[0m\u001b[0m\n\u001b[0;32m----> 4\u001b[0;31m \u001b[0maccount\u001b[0m\u001b[0;34m.\u001b[0m\u001b[0mwithdraw\u001b[0m\u001b[0;34m(\u001b[0m\u001b[0;36m3000\u001b[0m\u001b[0;34m)\u001b[0m\u001b[0;34m\u001b[0m\u001b[0m\n\u001b[0m",
      "\u001b[0;32m<ipython-input-42-6ee7af46e920>\u001b[0m in \u001b[0;36mwithdraw\u001b[0;34m(self, n)\u001b[0m\n\u001b[1;32m     10\u001b[0m     \u001b[0;32mdef\u001b[0m \u001b[0mwithdraw\u001b[0m\u001b[0;34m(\u001b[0m\u001b[0mself\u001b[0m\u001b[0;34m,\u001b[0m \u001b[0mn\u001b[0m\u001b[0;34m)\u001b[0m\u001b[0;34m:\u001b[0m\u001b[0;34m\u001b[0m\u001b[0m\n\u001b[1;32m     11\u001b[0m         \u001b[0;32mif\u001b[0m \u001b[0mn\u001b[0m \u001b[0;34m>\u001b[0m \u001b[0mself\u001b[0m\u001b[0;34m.\u001b[0m\u001b[0m__balance\u001b[0m\u001b[0;34m:\u001b[0m\u001b[0;34m\u001b[0m\u001b[0m\n\u001b[0;32m---> 12\u001b[0;31m             \u001b[0;32mraise\u001b[0m \u001b[0mValueError\u001b[0m\u001b[0;34m(\u001b[0m\u001b[0;34m\"You don't have enough money!\"\u001b[0m\u001b[0;34m)\u001b[0m\u001b[0;34m\u001b[0m\u001b[0m\n\u001b[0m\u001b[1;32m     13\u001b[0m         \u001b[0mself\u001b[0m\u001b[0;34m.\u001b[0m\u001b[0m__balance\u001b[0m \u001b[0;34m-=\u001b[0m \u001b[0mn\u001b[0m\u001b[0;34m\u001b[0m\u001b[0m\n\u001b[1;32m     14\u001b[0m \u001b[0;34m\u001b[0m\u001b[0m\n",
      "\u001b[0;31mValueError\u001b[0m: You don't have enough money!"
     ]
    }
   ],
   "source": [
    "account = BankAccount('Test', 2000)\n",
    "account.check_balance() # 2000\n",
    "account.deposit(500)\n",
    "account.withdraw(3000) # ValueError: You don't have enough money!"
   ]
  },
  {
   "cell_type": "code",
   "execution_count": 44,
   "metadata": {},
   "outputs": [
    {
     "name": "stdout",
     "output_type": "stream",
     "text": [
      "Your current balance is 500\n"
     ]
    }
   ],
   "source": [
    "account.withdraw(2000)\n",
    "account.check_balance()"
   ]
  },
  {
   "cell_type": "code",
   "execution_count": null,
   "metadata": {
    "collapsed": true
   },
   "outputs": [],
   "source": []
  }
 ],
 "metadata": {
  "kernelspec": {
   "display_name": "Python 3",
   "language": "python",
   "name": "python3"
  },
  "language_info": {
   "codemirror_mode": {
    "name": "ipython",
    "version": 3
   },
   "file_extension": ".py",
   "mimetype": "text/x-python",
   "name": "python",
   "nbconvert_exporter": "python",
   "pygments_lexer": "ipython3",
   "version": "3.6.0"
  }
 },
 "nbformat": 4,
 "nbformat_minor": 1
}
