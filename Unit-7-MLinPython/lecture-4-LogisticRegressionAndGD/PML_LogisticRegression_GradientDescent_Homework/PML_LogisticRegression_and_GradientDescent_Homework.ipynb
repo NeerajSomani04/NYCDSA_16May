{
 "cells": [
  {
   "cell_type": "markdown",
   "metadata": {},
   "source": [
    "# Logistic Regression and Gradient Descent Homework\n",
    "- In this homework we study **titanic** dataset using logistic regression "
   ]
  },
  {
   "cell_type": "code",
   "execution_count": 1,
   "metadata": {
    "collapsed": true
   },
   "outputs": [],
   "source": [
    "%matplotlib inline\n",
    "import numpy as np\n",
    "import pandas as pd\n",
    "from sklearn import datasets\n",
    "from sklearn import linear_model\n",
    "import matplotlib.pyplot as plt"
   ]
  },
  {
   "cell_type": "code",
   "execution_count": 2,
   "metadata": {
    "collapsed": false
   },
   "outputs": [
    {
     "data": {
      "text/plain": [
       "(1313, 6)"
      ]
     },
     "execution_count": 2,
     "metadata": {},
     "output_type": "execute_result"
    }
   ],
   "source": [
    "titanic = pd.read_csv('Titanic.csv', index_col=0)\n",
    "titanic.shape"
   ]
  },
  {
   "cell_type": "markdown",
   "metadata": {},
   "source": [
    "## Question 1\n",
    "### Part A - Missing Values Imputation\n",
    "\n",
    "- Check if there are missing values\n",
    "- It turns out only **Age** column has missing values\n",
    "- There is a unique sample with PClass='*', sexCode=0 and no age information\n",
    "- Remove this sample from the titanic dataframe\n",
    "- Store the Survived column into a pandas series\n",
    "- Create a new data frame using the 'PClass', 'SexCode', 'Age' columns (don't forget to use .copy() to create a copy with fresh memory)\n",
    "- We would like to impute the missing **Age** values using the means of the corresponding 'PClass', 'SexCode' groups which the samples fall in\n",
    "- ${\\bf Hint}$: One way to impute using the result of groupby is \n",
    "    - converting the groupby result into a dictionary using to_dict method\n",
    "    - using panda series **apply** method on a lambda function, where the lambda function is defined using the above dictionary\n",
    "    \n",
    "- ${\\bf Remark}$: **SexCode** is the binary integer encoding of gender    "
   ]
  },
  {
   "cell_type": "code",
   "execution_count": 3,
   "metadata": {
    "collapsed": false
   },
   "outputs": [
    {
     "data": {
      "text/plain": [
       "Name          0\n",
       "PClass        0\n",
       "Age         557\n",
       "Sex           0\n",
       "Survived      0\n",
       "SexCode       0\n",
       "dtype: int64"
      ]
     },
     "execution_count": 3,
     "metadata": {},
     "output_type": "execute_result"
    }
   ],
   "source": [
    "titanic"
   ]
  },
  {
   "cell_type": "code",
   "execution_count": 4,
   "metadata": {
    "collapsed": true
   },
   "outputs": [],
   "source": [
    "titanic1 = titanic.copy()\n",
    "titanic1 = titanic1[?] # remove the unique sample with PClass '*'"
   ]
  },
  {
   "cell_type": "code",
   "execution_count": 5,
   "metadata": {
    "collapsed": false
   },
   "outputs": [],
   "source": [
    "Survived = titanic1.Survived\n",
    "titanic2 = titanic1.drop(?, axis=1).copy()"
   ]
  },
  {
   "cell_type": "code",
   "execution_count": 6,
   "metadata": {
    "collapsed": false
   },
   "outputs": [
    {
     "data": {
      "text/plain": [
       "{('1st', 0): 41.19936,\n",
       " ('1st', 1): 37.772277227722775,\n",
       " ('2nd', 0): 28.910472440944883,\n",
       " ('2nd', 1): 27.388235294117646,\n",
       " ('3rd', 0): 26.357222222222223,\n",
       " ('3rd', 1): 22.776176470588236}"
      ]
     },
     "execution_count": 6,
     "metadata": {},
     "output_type": "execute_result"
    }
   ],
   "source": [
    "imputation_dict = titanic2.groupby(?).mean().?  # how to convert a dataframe to a python dictionary\n",
    "imputation_dict['Age']"
   ]
  },
  {
   "cell_type": "code",
   "execution_count": 7,
   "metadata": {
    "collapsed": false
   },
   "outputs": [],
   "source": [
    "missingRowIndexes = titanic2.Age.isnull()\n",
    "# impute the value by using the above imputation_dict\n",
    "titanic2.loc[?,'Age'] = titanic2[?].apply(?, axis=?)"
   ]
  },
  {
   "cell_type": "code",
   "execution_count": 8,
   "metadata": {
    "collapsed": false
   },
   "outputs": [
    {
     "data": {
      "text/plain": [
       "PClass     0\n",
       "Age        0\n",
       "SexCode    0\n",
       "dtype: int64"
      ]
     },
     "execution_count": 8,
     "metadata": {},
     "output_type": "execute_result"
    }
   ],
   "source": [
    "# Verify there is no missing Age values any more\n",
    "titanic2.?"
   ]
  },
  {
   "cell_type": "markdown",
   "metadata": {},
   "source": [
    "## Part B\n",
    "- The **PClass** column can be treated as an ordinal categorical column.  If so,  we only need to convert the string values into\n",
    "integer labels\n",
    "- Alternatively, one can treat **PClass** as a nominal categorical column and dummify it\n",
    "- In either way, fit a logistic regression model and compute its accuracy\n",
    "- Set the logistic regression model hyperparameter $C$ to $1e4$ to disable **Ridge** penality"
   ]
  },
  {
   "cell_type": "code",
   "execution_count": 9,
   "metadata": {
    "collapsed": true
   },
   "outputs": [],
   "source": [
    "# Convert the string values into integers \n",
    "titanic2.PClass = titanic2.PClass.map(?)"
   ]
  },
  {
   "cell_type": "code",
   "execution_count": 10,
   "metadata": {
    "collapsed": false
   },
   "outputs": [
    {
     "data": {
      "text/plain": [
       "0    862\n",
       "1    450\n",
       "Name: Survived, dtype: int64"
      ]
     },
     "execution_count": 10,
     "metadata": {},
     "output_type": "execute_result"
    }
   ],
   "source": [
    "Survived.? # about 1/3 of the passengers survive"
   ]
  },
  {
   "cell_type": "code",
   "execution_count": 11,
   "metadata": {
    "collapsed": false
   },
   "outputs": [
    {
     "data": {
      "text/plain": [
       "0.8155487804878049"
      ]
     },
     "execution_count": 11,
     "metadata": {},
     "output_type": "execute_result"
    }
   ],
   "source": [
    "from sklearn.linear_model import LogisticRegression\n",
    "\n",
    "logistic = LogisticRegression(C=1e4)\n",
    "logistic.fit(?,?)\n",
    "logistic.score(?,?)"
   ]
  },
  {
   "cell_type": "code",
   "execution_count": null,
   "metadata": {
    "collapsed": true
   },
   "outputs": [],
   "source": [
    "## Dummify the PClass nominal categorical column"
   ]
  },
  {
   "cell_type": "code",
   "execution_count": 12,
   "metadata": {
    "collapsed": false
   },
   "outputs": [],
   "source": [
    "U = pd.get_dummies(?, prefix='Class')\n",
    "titanic_dummified = pd.concat((?, ?), axis=1)"
   ]
  },
  {
   "cell_type": "code",
   "execution_count": 13,
   "metadata": {
    "collapsed": false
   },
   "outputs": [
    {
     "data": {
      "text/plain": [
       "0.8163109756097561"
      ]
     },
     "execution_count": 13,
     "metadata": {},
     "output_type": "execute_result"
    }
   ],
   "source": [
    "logistic.fit(?, ?)\n",
    "logistic.score(?, ?)"
   ]
  },
  {
   "cell_type": "markdown",
   "metadata": {},
   "source": [
    "## Part C\n",
    "- In this part we use the features 'Age', 'SexCode', 'Survived' to predict the multiclass labels **PClass**\n",
    "- Fit a logistic regression model through the default **ovr** ensembling technique and study its performance\n",
    "- Among the three values of **PClass**, which class has the worse performance?\n",
    "\n",
    "- ${\\bf Hint}$: the **confusion_matrix** function in **sklearn.metrics** helps to discern the discrepancy of the true labels and predicted labels. It is used as confusion_matrix(true_label_series, predict_label_series)"
   ]
  },
  {
   "cell_type": "code",
   "execution_count": 14,
   "metadata": {
    "collapsed": false
   },
   "outputs": [],
   "source": [
    "X = titanic2[['Age', 'SexCode']].copy()\n",
    "X['Survived'] = Survived\n",
    "Y = titanic2['PClass']"
   ]
  },
  {
   "cell_type": "code",
   "execution_count": 15,
   "metadata": {
    "collapsed": false
   },
   "outputs": [
    {
     "data": {
      "text/plain": [
       "0.6425304878048781"
      ]
     },
     "execution_count": 15,
     "metadata": {},
     "output_type": "execute_result"
    }
   ],
   "source": [
    "logistic.fit?\n",
    "logistic.score?"
   ]
  },
  {
   "cell_type": "markdown",
   "metadata": {},
   "source": [
    "- Very low accuracy, which class causes the poor performance?\n",
    "- We investigate the class-by-class performance using confusion_matrix\n",
    "- Visit http://scikit-learn.org/stable/modules/generated/sklearn.metrics.confusion_matrix.html for a description"
   ]
  },
  {
   "cell_type": "code",
   "execution_count": 16,
   "metadata": {
    "collapsed": false
   },
   "outputs": [
    {
     "data": {
      "text/plain": [
       "array([[200,   0, 122],\n",
       "       [ 87,   0, 192],\n",
       "       [ 68,   0, 643]])"
      ]
     },
     "execution_count": 16,
     "metadata": {},
     "output_type": "execute_result"
    }
   ],
   "source": [
    "from sklearn.metrics import confusion_matrix\n",
    "confusion_matrix(?,?)"
   ]
  },
  {
   "cell_type": "code",
   "execution_count": 17,
   "metadata": {
    "collapsed": false
   },
   "outputs": [
    {
     "data": {
      "text/plain": [
       "3    711\n",
       "1    322\n",
       "2    279\n",
       "Name: PClass, dtype: int64"
      ]
     },
     "execution_count": 17,
     "metadata": {},
     "output_type": "execute_result"
    }
   ],
   "source": [
    "Y.?"
   ]
  },
  {
   "cell_type": "markdown",
   "metadata": {},
   "source": [
    "- Because class $2$ has $279$ samples, it is class $2$ which is completely mis-classified by logistic regression classifier"
   ]
  },
  {
   "cell_type": "markdown",
   "metadata": {},
   "source": [
    "## Question 2"
   ]
  },
  {
   "cell_type": "code",
   "execution_count": 18,
   "metadata": {
    "collapsed": false
   },
   "outputs": [],
   "source": [
    "from sklearn.linear_model import SGDClassifier"
   ]
  },
  {
   "cell_type": "markdown",
   "metadata": {},
   "source": [
    "## Part A\n",
    "- Train a gradient descent logistic regression model by setting the parameters of an **sgd** object properly\n",
    "- The loss is specified to 'log' for **logistic regression**\n",
    "- Notice that we turn **shuffle** to False to prevent randomness\n",
    "- Setting $\\alpha=0.0001$ is equivalent to setting $C=10000$ for the logisticRegression model\n",
    "- Fit a gradient descent logistic regression with the binary labels **Survived** on 'Age', 'SexCode', 'PClass' and compute its accuracy\n",
    "- Fit a gradient descent logistic regression with the 3-class **PClass** labels on 'Age', 'SexCode', 'Survived' and compute its accuracy"
   ]
  },
  {
   "cell_type": "code",
   "execution_count": 19,
   "metadata": {
    "collapsed": false
   },
   "outputs": [],
   "source": [
    "sgd = SGDClassifier(loss=?, max_iter=1e4, l1_ratio=0, alpha=1e-4, shuffle=?)"
   ]
  },
  {
   "cell_type": "code",
   "execution_count": 20,
   "metadata": {
    "collapsed": false
   },
   "outputs": [
    {
     "data": {
      "text/plain": [
       "0.8140243902439024"
      ]
     },
     "execution_count": 20,
     "metadata": {},
     "output_type": "execute_result"
    }
   ],
   "source": [
    "# Fit the binary classifier model\n",
    "?"
   ]
  },
  {
   "cell_type": "code",
   "execution_count": 21,
   "metadata": {
    "collapsed": false
   },
   "outputs": [
    {
     "data": {
      "text/plain": [
       "0.541920731707317"
      ]
     },
     "execution_count": 21,
     "metadata": {},
     "output_type": "execute_result"
    }
   ],
   "source": [
    "# Fit the 3-class classifier model\n",
    "?"
   ]
  },
  {
   "cell_type": "markdown",
   "metadata": {},
   "source": [
    "## Part B\n",
    "- Now turn on the **shuffle** flag to True and repeat what you do in Part A\n",
    "- Run a for loop iterating through range(10) and store the accuracies into a list\n",
    "- Plot the accuracies and verify that they are quite random"
   ]
  },
  {
   "cell_type": "code",
   "execution_count": 22,
   "metadata": {
    "collapsed": false
   },
   "outputs": [
    {
     "data": {
      "text/plain": [
       "SGDClassifier(alpha=0.0001, average=False, class_weight=None, epsilon=0.1,\n",
       "       eta0=0.0, fit_intercept=True, l1_ratio=0, learning_rate='optimal',\n",
       "       loss='log', max_iter=10000.0, n_iter=None, n_jobs=1, penalty='l2',\n",
       "       power_t=0.5, random_state=None, shuffle=True, tol=None, verbose=0,\n",
       "       warm_start=False)"
      ]
     },
     "execution_count": 22,
     "metadata": {},
     "output_type": "execute_result"
    }
   ],
   "source": [
    "np.random.seed(0)\n",
    "sgd.set_params(?)"
   ]
  },
  {
   "cell_type": "code",
   "execution_count": 23,
   "metadata": {
    "collapsed": false
   },
   "outputs": [
    {
     "data": {
      "text/plain": [
       "Text(0,0.5,'accuracy score')"
      ]
     },
     "execution_count": 23,
     "metadata": {},
     "output_type": "execute_result"
    },
    {
     "data": {
      "image/png": "[encoded data removed]",
      "text/plain": [
       "<matplotlib.figure.Figure at 0x10c926908>"
      ]
     },
     "metadata": {},
     "output_type": "display_data"
    }
   ],
   "source": [
    "scores_binary = []\n",
    "for i in range(10):\n",
    "    sgd.?\n",
    "    scores_binary.append(sgd.score(titanic2, Survived))\n",
    "\n",
    "plt.plot(range(10), scores_binary) \n",
    "plt.xlabel('number of iterations')\n",
    "plt.ylabel('accuracy score')"
   ]
  },
  {
   "cell_type": "code",
   "execution_count": 24,
   "metadata": {
    "collapsed": false
   },
   "outputs": [
    {
     "data": {
      "text/plain": [
       "Text(0,0.5,'accuracy score')"
      ]
     },
     "execution_count": 24,
     "metadata": {},
     "output_type": "execute_result"
    },
    {
     "data": {
      "image/png": "[encoded data removed]",
      "text/plain": [
       "<matplotlib.figure.Figure at 0x10c926518>"
      ]
     },
     "metadata": {},
     "output_type": "display_data"
    }
   ],
   "source": [
    "scores_PClass = []\n",
    "for i in range(10):\n",
    "    sgd.fit(X,Y)\n",
    "    scores_PClass.append(sgd.score(X,Y))\n",
    "  \n",
    "plt.plot(range(10), scores_PClass)\n",
    "plt.xlabel('number of iterations')\n",
    "plt.ylabel('accuracy score')"
   ]
  },
  {
   "cell_type": "markdown",
   "metadata": {},
   "source": [
    "## Part C\n",
    "- Set **max_iter=None** and **tol=1e-6** through **set_params** **API**, then repeat the same computation as in part E\n",
    "- What do you observe with the variations of accuracies?"
   ]
  },
  {
   "cell_type": "code",
   "execution_count": 25,
   "metadata": {
    "collapsed": false
   },
   "outputs": [
    {
     "data": {
      "text/plain": [
       "SGDClassifier(alpha=0.0001, average=False, class_weight=None, epsilon=0.1,\n",
       "       eta0=0.0, fit_intercept=True, l1_ratio=0, learning_rate='optimal',\n",
       "       loss='log', max_iter=None, n_iter=None, n_jobs=1, penalty='l2',\n",
       "       power_t=0.5, random_state=None, shuffle=True, tol=1e-06, verbose=0,\n",
       "       warm_start=False)"
      ]
     },
     "execution_count": 25,
     "metadata": {},
     "output_type": "execute_result"
    }
   ],
   "source": [
    "sgd.set_params(?)"
   ]
  },
  {
   "cell_type": "code",
   "execution_count": 26,
   "metadata": {
    "collapsed": false
   },
   "outputs": [
    {
     "data": {
      "text/plain": [
       "Text(0,0.5,'accuracy score')"
      ]
     },
     "execution_count": 26,
     "metadata": {},
     "output_type": "execute_result"
    },
    {
     "data": {
      "image/png": "[encoded data removed]",
      "text/plain": [
       "<matplotlib.figure.Figure at 0x10c9c8080>"
      ]
     },
     "metadata": {},
     "output_type": "display_data"
    }
   ],
   "source": [
    "scores_binary = []\n",
    "for i in range(10):\n",
    "    sgd.?\n",
    "    scores_binary.append(?)\n",
    "\n",
    "plt.plot(range(10), scores_binary)    \n",
    "plt.xlabel('number of iterations')\n",
    "plt.ylabel('accuracy score')"
   ]
  },
  {
   "cell_type": "code",
   "execution_count": 27,
   "metadata": {
    "collapsed": false
   },
   "outputs": [
    {
     "data": {
      "text/plain": [
       "Text(0,0.5,'accuracy score')"
      ]
     },
     "execution_count": 27,
     "metadata": {},
     "output_type": "execute_result"
    },
    {
     "data": {
      "image/png": "[encoded data removed]",
      "text/plain": [
       "<matplotlib.figure.Figure at 0x10ca0a400>"
      ]
     },
     "metadata": {},
     "output_type": "display_data"
    }
   ],
   "source": [
    "scores_PClass = []\n",
    "for i in range(10):\n",
    "    sgd.?\n",
    "    scores_PClass.append(?)\n",
    "  \n",
    "plt.plot(range(10), scores_PClass)\n",
    "plt.xlabel('number of iterations')\n",
    "plt.ylabel('accuracy score')"
   ]
  },
  {
   "cell_type": "markdown",
   "metadata": {},
   "source": [
    "## Remark:\n",
    "- For both computations, the accuracies vary a lot during the $10$ iterations\n",
    "- This shows that early stopping based on tolerance can lead to insufficient number of iterations, which causes the\n",
    "performance to swing wildly"
   ]
  },
  {
   "cell_type": "code",
   "execution_count": null,
   "metadata": {
    "collapsed": true
   },
   "outputs": [],
   "source": []
  }
 ],
 "metadata": {
  "kernelspec": {
   "display_name": "Python 3",
   "language": "python",
   "name": "python3"
  },
  "language_info": {
   "codemirror_mode": {
    "name": "ipython",
    "version": 3
   },
   "file_extension": ".py",
   "mimetype": "text/x-python",
   "name": "python",
   "nbconvert_exporter": "python",
   "pygments_lexer": "ipython3",
   "version": "3.5.4"
  }
 },
 "nbformat": 4,
 "nbformat_minor": 0
}
