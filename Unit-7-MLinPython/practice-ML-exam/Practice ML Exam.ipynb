{
 "cells": [
  {
   "cell_type": "markdown",
   "metadata": {},
   "source": [
    "# Python Practice ML Exam"
   ]
  },
  {
   "cell_type": "markdown",
   "metadata": {
    "collapsed": true
   },
   "source": [
    "### Scipy Optimization Examples "
   ]
  },
  {
   "cell_type": "code",
   "execution_count": 1,
   "metadata": {
    "collapsed": true
   },
   "outputs": [],
   "source": [
    "import numpy as np\n",
    "import matplotlib.pyplot as plt\n",
    "from scipy.optimize import minimize, minimize_scalar\n",
    "%matplotlib inline"
   ]
  },
  {
   "cell_type": "code",
   "execution_count": 2,
   "metadata": {
    "collapsed": true
   },
   "outputs": [],
   "source": [
    "def f(x):\n",
    "    return (((x-1)**2-6)**2 + 0.7)"
   ]
  },
  {
   "cell_type": "markdown",
   "metadata": {},
   "source": [
    "## Question 1\n",
    "- Find the locations of all the local minimum(s) and local maxiums of the above function within the range $[-3,5]$.\n",
    "- The precision of the locations is of 3 significant digits\n",
    "- Please learn to use the **minimize_scalar** function.\n",
    "- If necessary, please check the documentation of **minimize_scalar**."
   ]
  },
  {
   "cell_type": "code",
   "execution_count": 3,
   "metadata": {},
   "outputs": [
    {
     "data": {
      "text/plain": [
       "[<matplotlib.lines.Line2D at 0x11419cb38>]"
      ]
     },
     "execution_count": 3,
     "metadata": {},
     "output_type": "execute_result"
    },
    {
     "data": {
      "image/png": "[encoded data removed]",
      "text/plain": [
       "<Figure size 432x288 with 1 Axes>"
      ]
     },
     "metadata": {},
     "output_type": "display_data"
    }
   ],
   "source": [
    "# Plotting the graph of f to gain insight\n"
   ]
  },
  {
   "cell_type": "code",
   "execution_count": 4,
   "metadata": {},
   "outputs": [
    {
     "name": "stdout",
     "output_type": "stream",
     "text": [
      "-1.449 0.700 True\n"
     ]
    }
   ],
   "source": [
    "options = {'maxiter':100}\n",
    "ans = minimize_scalar(?, method='bounded')\n",
    "print('%.3f %.3f %s' %(ans.x, ans.fun, ans.success))"
   ]
  },
  {
   "cell_type": "code",
   "execution_count": 5,
   "metadata": {},
   "outputs": [
    {
     "name": "stdout",
     "output_type": "stream",
     "text": [
      "3.449 0.700 True\n"
     ]
    }
   ],
   "source": [
    "ans = minimize_scalar(?, bounds=?, options = ?, method='bounded')\n",
    "print('%.3f %.3f %s' %(ans.x, ans.fun, ans.success))"
   ]
  },
  {
   "cell_type": "markdown",
   "metadata": {},
   "source": [
    "- **scipy.optimize** has no dedicated function for maximization. \n",
    "- So we need to use the negation the function $f$ for minimization. Finally the locations of local minimums of $-f$ is equivalent to finding the local maximums of $f$."
   ]
  },
  {
   "cell_type": "code",
   "execution_count": 6,
   "metadata": {},
   "outputs": [
    {
     "name": "stdout",
     "output_type": "stream",
     "text": [
      "1.000 36.700 True\n"
     ]
    }
   ],
   "source": [
    "ans = minimize_scalar(?, bounds=?, options = ?, method='bounded')\n",
    "print('%.3f %.3f %s' %(ans.x, -1*ans.fun, ans.success))"
   ]
  },
  {
   "cell_type": "code",
   "execution_count": 7,
   "metadata": {},
   "outputs": [
    {
     "name": "stdout",
     "output_type": "stream",
     "text": [
      "-3.000 100.699 True\n"
     ]
    }
   ],
   "source": [
    "ans = minimize_scalar(?, bounds=?, options = ?, method='bounded')\n",
    "print('%.3f %.3f %s' %(ans.x, -1*ans.fun, ans.success))"
   ]
  },
  {
   "cell_type": "code",
   "execution_count": 8,
   "metadata": {},
   "outputs": [
    {
     "name": "stdout",
     "output_type": "stream",
     "text": [
      "5.000 100.699 True\n"
     ]
    }
   ],
   "source": [
    "ans = minimize_scalar(?, bounds=?, options = ?, method='bounded')\n",
    "print('%.3f %.3f %s' %(ans.x, -1*ans.fun, ans.success))"
   ]
  },
  {
   "cell_type": "markdown",
   "metadata": {},
   "source": [
    "## Question 2:\n",
    "- Consider the function $g(x,y) = sin(x) * cos(y)+0.1*y^2$ defined over $[-\\pi, \\pi]\\times [-\\pi, \\pi]$, \n",
    "please find the local miniums of the function.\n",
    "please find the global minimum of the function in the above domain\n",
    "$(x,y)\\in [-\\pi, \\pi]\\times [-\\pi, \\pi]$."
   ]
  },
  {
   "cell_type": "code",
   "execution_count": 9,
   "metadata": {
    "collapsed": true
   },
   "outputs": [],
   "source": [
    "import math\n",
    "\n",
    "x = np.linspace(-math.pi, math.pi, 100)\n",
    "y = np.linspace(-math.pi, math.pi, 100)\n",
    "\n",
    "def g(x, y):\n",
    "    return np.sin(x)*np.cos(y) + 0.1*y**2"
   ]
  },
  {
   "cell_type": "code",
   "execution_count": 10,
   "metadata": {},
   "outputs": [
    {
     "name": "stdout",
     "output_type": "stream",
     "text": [
      "(100, 100) (100, 100) (100, 100)\n"
     ]
    }
   ],
   "source": [
    "X,Y = np.meshgrid(x,y)\n",
    "Z = g(X,Y)\n",
    "print(X.shape, Y.shape, Z.shape)"
   ]
  },
  {
   "cell_type": "code",
   "execution_count": 11,
   "metadata": {},
   "outputs": [
    {
     "data": {
      "text/plain": [
       "<matplotlib.colorbar.Colorbar at 0x11420c7f0>"
      ]
     },
     "execution_count": 11,
     "metadata": {},
     "output_type": "execute_result"
    },
    {
     "data": {
      "image/png": "[encoded data removed]",
      "text/plain": [
       "<Figure size 432x288 with 2 Axes>"
      ]
     },
     "metadata": {},
     "output_type": "display_data"
    }
   ],
   "source": [
    "CS = plt.contourf(?)\n",
    "plt.colorbar(?)"
   ]
  },
  {
   "cell_type": "markdown",
   "metadata": {
    "collapsed": true
   },
   "source": [
    "- From the above contour plot there are three local minimums. The darkest color near $(-1.5, 0)$ should be a global minimum.\n",
    "- Let us investigate the exact location through the **minimize** function."
   ]
  },
  {
   "cell_type": "code",
   "execution_count": 12,
   "metadata": {
    "collapsed": true
   },
   "outputs": [],
   "source": [
    "option_output = {'maxiter':1000, 'disp':True}"
   ]
  },
  {
   "cell_type": "code",
   "execution_count": 13,
   "metadata": {},
   "outputs": [
    {
     "name": "stdout",
     "output_type": "stream",
     "text": [
      "Optimization terminated successfully.\n",
      "         Current function value: -1.000000\n",
      "         Iterations: 59\n",
      "         Function evaluations: 113\n"
     ]
    }
   ],
   "source": [
    "sol = minimize(?, np.zeros(2), options=?, method='Nelder-Mead')"
   ]
  },
  {
   "cell_type": "code",
   "execution_count": 14,
   "metadata": {},
   "outputs": [
    {
     "data": {
      "text/plain": [
       "array([-1.57075885e+00, -2.36311272e-05])"
      ]
     },
     "execution_count": 14,
     "metadata": {},
     "output_type": "execute_result"
    }
   ],
   "source": [
    "sol.x"
   ]
  },
  {
   "cell_type": "code",
   "execution_count": null,
   "metadata": {
    "collapsed": true
   },
   "outputs": [],
   "source": [
    "- Try random initial points to probe the different local minimums."
   ]
  },
  {
   "cell_type": "code",
   "execution_count": 15,
   "metadata": {
    "collapsed": true
   },
   "outputs": [],
   "source": [
    "N = 100\n",
    "option_output = {'maxiter':1000, 'disp':False}\n",
    "fun_values = {}\n",
    "\n",
    "for i in range(N): \n",
    "      pass"
   ]
  },
  {
   "cell_type": "code",
   "execution_count": 16,
   "metadata": {},
   "outputs": [
    {
     "data": {
      "text/plain": [
       "{(-4.712, -2.596): -0.181,\n",
       " (-4.712, 2.596): -0.181,\n",
       " (-1.571, -0.0): -1.0,\n",
       " (1.571, -2.596): -0.181,\n",
       " (1.571, 2.596): -0.181,\n",
       " (4.712, 0.0): -1.0}"
      ]
     },
     "execution_count": 16,
     "metadata": {},
     "output_type": "execute_result"
    }
   ],
   "source": [
    "fun_values"
   ]
  },
  {
   "cell_type": "markdown",
   "metadata": {},
   "source": [
    "- Apparently not all points are in the given domain $[-\\pi, \\pi] \\times [-\\pi, \\pi]$.\n",
    "- To select those within the domain programmatically, one can use the filter function."
   ]
  },
  {
   "cell_type": "code",
   "execution_count": 17,
   "metadata": {
    "collapsed": true
   },
   "outputs": [],
   "source": [
    "def inOurDomain(t):\n",
    "    ?"
   ]
  },
  {
   "cell_type": "code",
   "execution_count": 18,
   "metadata": {},
   "outputs": [
    {
     "data": {
      "text/plain": [
       "[((-1.571, -0.0), -1.0), ((1.571, 2.596), -0.181), ((1.571, -2.596), -0.181)]"
      ]
     },
     "execution_count": 18,
     "metadata": {},
     "output_type": "execute_result"
    }
   ],
   "source": [
    "list(filter(?, fun_values.items()))"
   ]
  },
  {
   "cell_type": "markdown",
   "metadata": {
    "collapsed": true
   },
   "source": [
    "## Question 3: LogisticRegression with Modified Behaviors \n",
    "- Based on **sklearn**'s Logistic Regression classifier and **SGD** classifier, design a very simple-minded Logistic Classifier such that\n",
    "- it allows the **Ridge** or **Lasso** penality with the hyperparameter $\\alpha$ (we call it $\\lambda$ in the class), default = $1e-4$. \n",
    "- We choose either **Ridge** or **Lasso** by assigning the penalty = 'Ridge', penality = 'Lasso', with default = 'Ridge'\n",
    "- It has a parameter controlling the maximal iterations called **max_iter**, default to $100$.\n",
    "- a parameter called **solver**, which accepts the solver option 'liblinear' of LogisticRegression. But when the solver is set to \n",
    "be **sgd**, it switches to a **Stochastic Gradient Descent** logistic classifier.\n",
    "- It has two standard model attributes **coef_**, **intercept_**.\n",
    "- it has the standard **APIs** of \n",
    "     - fit(X, Y)\n",
    "     - predict(X)\n",
    "     - predict_proba(X)\n",
    "     - score(X, Y)\n",
    "     - set_params()\n",
    "     - get_params()\n",
    "\n",
    "- In such a simple-minded logistic classifier, we ignore all the other complexity associated \n",
    "with adjusting the learning_rate, tol, ...\n",
    "\n",
    "\n",
    "- Try your newly built model on **iris** data set (using the species as the targets) and plot the accuracies for alpha = [1e-4, 1e-2, 1e-1, 1]\n",
    "for both the default solver (liblinear) and sgd.\n",
    "- Output the predicted probabilities. \n",
    ".....\n",
    "- Please silent the warning messages of your code if there is any."
   ]
  },
  {
   "cell_type": "code",
   "execution_count": 19,
   "metadata": {
    "collapsed": true
   },
   "outputs": [],
   "source": [
    "from sklearn.linear_model import LogisticRegression, SGDClassifier\n",
    "\n",
    "\n",
    "class MyLogisticClassifier(object):\n",
    "        def __init__(self, alpha = 1e-4, max_iter=100, penalty='Ridge', solver='liblinear'):\n",
    "                 pass\n",
    "\n",
    "        def fit(self, X, Y):\n",
    "                 pass\n",
    "        \n",
    "        def predict(self, X):\n",
    "                 pass\n",
    "\n",
    "        def predict_proba(self, X):\n",
    "                 pass\n",
    "\n",
    "        def score(self, X, Y):\n",
    "                 pass\n",
    "        \n",
    "        def get_params(self):\n",
    "            params = {}\n",
    "            #####\n",
    "            return params\n",
    "        \n",
    "        def set_params(self, **kwargs):\n",
    "                 pass\n",
    "        \n",
    "        def _set_params_helper(self, **kwargs):\n",
    "                 pass\n",
    "        \n",
    "        def _set_model(self):\n",
    "                 pass\n",
    "        \n",
    "        def _set_model_params(self):\n",
    "                 pass\n",
    "        \n",
    "        def _check_params(self, alpha, penalty, max_iter, solver):\n",
    "            \n",
    "                 pass"
   ]
  },
  {
   "cell_type": "code",
   "execution_count": 20,
   "metadata": {
    "collapsed": true
   },
   "outputs": [],
   "source": [
    "logit = MyLogisticClassifier(solver='liblinear')"
   ]
  },
  {
   "cell_type": "code",
   "execution_count": 21,
   "metadata": {},
   "outputs": [
    {
     "data": {
      "text/plain": [
       "LogisticRegression(C=10000.0, class_weight=None, dual=False,\n",
       "          fit_intercept=True, intercept_scaling=1, max_iter=100,\n",
       "          multi_class='ovr', n_jobs=1, penalty='l2', random_state=None,\n",
       "          solver='liblinear', tol=0.0001, verbose=0, warm_start=False)"
      ]
     },
     "execution_count": 21,
     "metadata": {},
     "output_type": "execute_result"
    }
   ],
   "source": [
    "from sklearn.datasets import load_iris\n",
    "iris = load_iris()\n",
    "X = iris.data\n",
    "Y = iris.target\n",
    "\n",
    "logit.fit(X, Y)"
   ]
  },
  {
   "cell_type": "code",
   "execution_count": 22,
   "metadata": {},
   "outputs": [
    {
     "data": {
      "text/plain": [
       "0.98"
      ]
     },
     "execution_count": 22,
     "metadata": {},
     "output_type": "execute_result"
    }
   ],
   "source": [
    "logit.score(X,Y)"
   ]
  },
  {
   "cell_type": "code",
   "execution_count": 23,
   "metadata": {
    "collapsed": true
   },
   "outputs": [],
   "source": [
    "accuracies = []\n",
    "coefs      = []\n",
    "intercepts = []\n",
    "\n",
    "alphas   = [0.0001, 0.01, 0.1, 1.0]\n",
    "for alpha in alphas:\n",
    "    logit.set_params(alpha=alpha)\n",
    "    logit.fit(X,Y)\n",
    "    accuracies.append(logit.score(X,Y))\n",
    "    coefs.append(logit.coef_)\n",
    "    intercepts.append(logit.intercept_)\n",
    "    \n",
    "    \n",
    "    \n",
    "    \n",
    "    "
   ]
  },
  {
   "cell_type": "code",
   "execution_count": 24,
   "metadata": {},
   "outputs": [
    {
     "data": {
      "text/plain": [
       "[array([[ 1.46087061,  4.77471764, -7.57810713, -3.7044055 ],\n",
       "        [-0.25179062, -2.77834529,  1.29855399, -2.70319061],\n",
       "        [-2.49977426, -6.41349937,  9.03011767, 17.40360539]]),\n",
       " array([[ 0.93712041,  3.11264833, -4.8822775 , -2.4688334 ],\n",
       "        [-0.1965162 , -2.70983607,  1.2659329 , -2.66583655],\n",
       "        [-3.24907968, -4.34431009,  6.11329842,  9.50841776]]),\n",
       " array([[ 0.65087962,  2.25102715, -3.49573723, -1.6202929 ],\n",
       "        [ 0.10444407, -2.35454857,  1.06418853, -2.40441749],\n",
       "        [-2.86845641, -3.11540512,  4.44871415,  5.65618308]]),\n",
       " array([[ 0.41498833,  1.46129739, -2.26214118, -1.0290951 ],\n",
       "        [ 0.41663969, -1.60083319,  0.57765763, -1.38553843],\n",
       "        [-1.70752515, -1.53426834,  2.47097168,  2.55538211]])]"
      ]
     },
     "execution_count": 24,
     "metadata": {},
     "output_type": "execute_result"
    }
   ],
   "source": [
    "coefs"
   ]
  },
  {
   "cell_type": "code",
   "execution_count": 25,
   "metadata": {},
   "outputs": [
    {
     "data": {
      "text/plain": [
       "[array([  0.87208341,   7.31587251, -39.73405392]),\n",
       " array([  0.54626485,   6.87120556, -13.23203013]),\n",
       " array([ 0.40621683,  4.52066416, -4.36407437]),\n",
       " array([ 0.26560617,  1.08542374, -1.21471458])]"
      ]
     },
     "execution_count": 25,
     "metadata": {},
     "output_type": "execute_result"
    }
   ],
   "source": [
    "intercepts"
   ]
  },
  {
   "cell_type": "code",
   "execution_count": 26,
   "metadata": {},
   "outputs": [
    {
     "data": {
      "text/plain": [
       "Text(0.5, 1.0, 'Logistic Regression Accuracies')"
      ]
     },
     "execution_count": 26,
     "metadata": {},
     "output_type": "execute_result"
    },
    {
     "data": {
      "image/png": "[encoded data removed]",
      "text/plain": [
       "<Figure size 432x288 with 1 Axes>"
      ]
     },
     "metadata": {},
     "output_type": "display_data"
    }
   ],
   "source": [
    "plt.plot(alphas, accuracies)\n",
    "plt.title('Logistic Regression Accuracies')"
   ]
  },
  {
   "cell_type": "code",
   "execution_count": 27,
   "metadata": {},
   "outputs": [
    {
     "data": {
      "text/plain": [
       "array([[8.79681649e-01, 1.20307538e-01, 1.08131372e-05],\n",
       "       [7.99706325e-01, 2.00263292e-01, 3.03825365e-05],\n",
       "       [8.53796795e-01, 1.46177302e-01, 2.59031285e-05],\n",
       "       [8.25383127e-01, 1.74558937e-01, 5.79356669e-05],\n",
       "       [8.97323628e-01, 1.02665167e-01, 1.12050036e-05],\n",
       "       [9.26986574e-01, 7.30004562e-02, 1.29693872e-05],\n",
       "       [8.95064974e-01, 1.04895775e-01, 3.92506205e-05],\n",
       "       [8.61839691e-01, 1.38141399e-01, 1.89095833e-05],\n",
       "       [8.03156719e-01, 1.96758495e-01, 8.47861140e-05],\n",
       "       [7.95421554e-01, 2.04552763e-01, 2.56832240e-05],\n",
       "       [8.92083069e-01, 1.07910759e-01, 6.17176870e-06],\n",
       "       [8.63364991e-01, 1.36600589e-01, 3.44201798e-05],\n",
       "       [7.88177618e-01, 2.11794929e-01, 2.74526810e-05],\n",
       "       [8.35079702e-01, 1.64888155e-01, 3.21426418e-05],\n",
       "       [9.28349898e-01, 7.16491356e-02, 9.66254924e-07],\n",
       "       [9.64535656e-01, 3.54620850e-02, 2.25877936e-06],\n",
       "       [9.40906153e-01, 5.90890027e-02, 4.84421830e-06],\n",
       "       [8.91740161e-01, 1.08245661e-01, 1.41772124e-05],\n",
       "       [8.96525617e-01, 1.03467608e-01, 6.77567332e-06],\n",
       "       [9.23615524e-01, 7.63726510e-02, 1.18248373e-05],\n",
       "       [8.30668332e-01, 1.69316458e-01, 1.52093733e-05],\n",
       "       [9.21914602e-01, 7.80675598e-02, 1.78384021e-05],\n",
       "       [9.26584671e-01, 7.34068679e-02, 8.46162713e-06],\n",
       "       [8.67785629e-01, 1.32146178e-01, 6.81931916e-05],\n",
       "       [8.41271506e-01, 1.58655904e-01, 7.25903122e-05],\n",
       "       [7.77263282e-01, 2.22695181e-01, 4.15365716e-05],\n",
       "       [8.81389224e-01, 1.18568969e-01, 4.18075826e-05],\n",
       "       [8.69974782e-01, 1.30013638e-01, 1.15794893e-05],\n",
       "       [8.60034106e-01, 1.39955486e-01, 1.04082979e-05],\n",
       "       [8.32052869e-01, 1.67892968e-01, 5.41625519e-05],\n",
       "       [8.07811588e-01, 1.92136477e-01, 5.19350231e-05],\n",
       "       [8.72544939e-01, 1.27438925e-01, 1.61360155e-05],\n",
       "       [9.33948477e-01, 6.60477336e-02, 3.78900866e-06],\n",
       "       [9.46250501e-01, 5.37475145e-02, 1.98493064e-06],\n",
       "       [7.95421554e-01, 2.04552763e-01, 2.56832240e-05],\n",
       "       [8.47610513e-01, 1.52377535e-01, 1.19520539e-05],\n",
       "       [8.70019435e-01, 1.29976367e-01, 4.19728170e-06],\n",
       "       [7.95421554e-01, 2.04552763e-01, 2.56832240e-05],\n",
       "       [8.31024910e-01, 1.68917216e-01, 5.78737851e-05],\n",
       "       [8.57737250e-01, 1.42246900e-01, 1.58501104e-05],\n",
       "       [9.00222082e-01, 9.97646975e-02, 1.32206853e-05],\n",
       "       [6.90741687e-01, 3.09094698e-01, 1.63615590e-04],\n",
       "       [8.66068303e-01, 1.33887708e-01, 4.39884356e-05],\n",
       "       [9.16308833e-01, 8.36288777e-02, 6.22895883e-05],\n",
       "       [9.15519114e-01, 8.44392129e-02, 4.16734713e-05],\n",
       "       [8.20309627e-01, 1.79642381e-01, 4.79919885e-05],\n",
       "       [9.09855663e-01, 9.01327650e-02, 1.15724381e-05],\n",
       "       [8.51214451e-01, 1.48746052e-01, 3.94971199e-05],\n",
       "       [8.95519736e-01, 1.04472911e-01, 7.35323849e-06],\n",
       "       [8.51563342e-01, 1.48419676e-01, 1.69821772e-05],\n",
       "       [2.98900777e-02, 8.60393138e-01, 1.09716785e-01],\n",
       "       [3.74487166e-02, 7.05572459e-01, 2.56978825e-01],\n",
       "       [1.17957675e-02, 7.48252356e-01, 2.39951876e-01],\n",
       "       [1.32920493e-02, 6.51770445e-01, 3.34937506e-01],\n",
       "       [1.09868088e-02, 6.98832091e-01, 2.90181101e-01],\n",
       "       [1.07669519e-02, 5.83013186e-01, 4.06219862e-01],\n",
       "       [2.15200540e-02, 5.37732882e-01, 4.40747064e-01],\n",
       "       [1.08418544e-01, 7.68766189e-01, 1.22815267e-01],\n",
       "       [1.77270021e-02, 8.27562690e-01, 1.54710308e-01],\n",
       "       [3.30493839e-02, 5.28708770e-01, 4.38241846e-01],\n",
       "       [2.93117962e-02, 7.72717609e-01, 1.97970595e-01],\n",
       "       [4.09569813e-02, 6.19765980e-01, 3.39277039e-01],\n",
       "       [1.95378252e-02, 8.79697992e-01, 1.00764183e-01],\n",
       "       [8.73285529e-03, 5.96503817e-01, 3.94763328e-01],\n",
       "       [1.67434866e-01, 7.12756209e-01, 1.19808925e-01],\n",
       "       [4.75535678e-02, 8.43626581e-01, 1.08819852e-01],\n",
       "       [1.22530319e-02, 4.23869480e-01, 5.63877488e-01],\n",
       "       [3.84753639e-02, 8.50175432e-01, 1.11349204e-01],\n",
       "       [3.09968794e-03, 5.96264678e-01, 4.00635634e-01],\n",
       "       [3.59781700e-02, 8.08752206e-01, 1.55269624e-01],\n",
       "       [6.20745751e-03, 2.73106189e-01, 7.20686354e-01],\n",
       "       [5.81151228e-02, 8.19701311e-01, 1.22183566e-01],\n",
       "       [1.95840574e-03, 5.33800891e-01, 4.64240703e-01],\n",
       "       [8.77628703e-03, 7.04654010e-01, 2.86569703e-01],\n",
       "       [3.69274341e-02, 8.38990091e-01, 1.24082475e-01],\n",
       "       [3.61807169e-02, 8.28744840e-01, 1.35074443e-01],\n",
       "       [8.14489700e-03, 7.77156946e-01, 2.14698157e-01],\n",
       "       [4.64006697e-03, 5.23164549e-01, 4.72195384e-01],\n",
       "       [1.33500103e-02, 5.63205976e-01, 4.23444014e-01],\n",
       "       [1.28473017e-01, 8.31361691e-01, 4.01652917e-02],\n",
       "       [3.60902230e-02, 8.03217466e-01, 1.60692311e-01],\n",
       "       [5.05096042e-02, 8.46149445e-01, 1.03340951e-01],\n",
       "       [5.69724571e-02, 8.11250984e-01, 1.31776559e-01],\n",
       "       [1.22453086e-03, 3.99201919e-01, 5.99573550e-01],\n",
       "       [1.03123407e-02, 3.65034695e-01, 6.24652965e-01],\n",
       "       [4.17476538e-02, 4.77844283e-01, 4.80408063e-01],\n",
       "       [1.90525287e-02, 7.45629538e-01, 2.35317933e-01],\n",
       "       [7.05352060e-03, 7.56932682e-01, 2.36013798e-01],\n",
       "       [5.57541864e-02, 6.67410837e-01, 2.76834977e-01],\n",
       "       [2.10790319e-02, 6.62362244e-01, 3.16558724e-01],\n",
       "       [8.98003281e-03, 5.99716389e-01, 3.91303578e-01],\n",
       "       [1.52196906e-02, 6.32329159e-01, 3.52451150e-01],\n",
       "       [3.47695685e-02, 7.98625645e-01, 1.66604786e-01],\n",
       "       [9.15416570e-02, 7.95877151e-01, 1.12581192e-01],\n",
       "       [1.98418694e-02, 6.40871800e-01, 3.39286330e-01],\n",
       "       [4.81040905e-02, 7.31039981e-01, 2.20855929e-01],\n",
       "       [3.44565240e-02, 6.77463657e-01, 2.88079819e-01],\n",
       "       [3.38822929e-02, 7.96899915e-01, 1.69217792e-01],\n",
       "       [2.54574647e-01, 6.90791330e-01, 5.46340233e-02],\n",
       "       [3.63488963e-02, 7.04234211e-01, 2.59416893e-01],\n",
       "       [1.86036022e-04, 1.48760823e-01, 8.51053141e-01],\n",
       "       [8.09069371e-04, 2.94422745e-01, 7.04768186e-01],\n",
       "       [2.78126551e-04, 3.30535386e-01, 6.69186488e-01],\n",
       "       [4.56288643e-04, 3.38732197e-01, 6.60811514e-01],\n",
       "       [2.51393977e-04, 2.57092194e-01, 7.42656412e-01],\n",
       "       [6.03186905e-05, 3.82744333e-01, 6.17195349e-01],\n",
       "       [2.04838186e-03, 2.81103453e-01, 7.16848165e-01],\n",
       "       [1.23247784e-04, 4.24393655e-01, 5.75483097e-01],\n",
       "       [1.59929758e-04, 4.23195996e-01, 5.76644074e-01],\n",
       "       [3.56390886e-04, 1.52542892e-01, 8.47100717e-01],\n",
       "       [2.99635433e-03, 2.78024684e-01, 7.18978962e-01],\n",
       "       [6.45242833e-04, 3.55681241e-01, 6.43673516e-01],\n",
       "       [6.81029987e-04, 2.98859721e-01, 7.00459249e-01],\n",
       "       [6.28418142e-04, 2.96807692e-01, 7.02563890e-01],\n",
       "       [6.10997845e-04, 1.74593604e-01, 8.24795398e-01],\n",
       "       [1.09757190e-03, 1.73257823e-01, 8.25644605e-01],\n",
       "       [7.99254871e-04, 3.48929847e-01, 6.50270898e-01],\n",
       "       [1.93443479e-04, 2.38473708e-01, 7.61332849e-01],\n",
       "       [1.30064976e-05, 4.20137191e-01, 5.79849802e-01],\n",
       "       [6.81548718e-04, 4.69975854e-01, 5.29342597e-01],\n",
       "       [5.04477452e-04, 2.25292722e-01, 7.74202801e-01],\n",
       "       [1.33913767e-03, 2.30143290e-01, 7.68517573e-01],\n",
       "       [3.82097113e-05, 4.28006955e-01, 5.71954836e-01],\n",
       "       [2.05299242e-03, 4.00421888e-01, 5.97525119e-01],\n",
       "       [6.77847072e-04, 2.37204010e-01, 7.62118143e-01],\n",
       "       [4.56383243e-04, 3.97527741e-01, 6.02015876e-01],\n",
       "       [3.19858866e-03, 3.83866887e-01, 6.12934525e-01],\n",
       "       [3.42364119e-03, 3.27541103e-01, 6.69035256e-01],\n",
       "       [3.00544917e-04, 2.98288662e-01, 7.01410793e-01],\n",
       "       [6.78376797e-04, 5.10705151e-01, 4.88616472e-01],\n",
       "       [1.61719140e-04, 4.27941843e-01, 5.71896438e-01],\n",
       "       [6.44775841e-04, 3.44845359e-01, 6.54509865e-01],\n",
       "       [2.75279882e-04, 2.78027400e-01, 7.21697320e-01],\n",
       "       [2.07731418e-03, 4.90652652e-01, 5.07270034e-01],\n",
       "       [3.54683506e-04, 4.42580814e-01, 5.57064503e-01],\n",
       "       [1.82017584e-04, 3.42008155e-01, 6.57809828e-01],\n",
       "       [6.30908753e-04, 1.28602511e-01, 8.70766580e-01],\n",
       "       [9.21940559e-04, 3.20888055e-01, 6.78190005e-01],\n",
       "       [4.29311663e-03, 3.18426266e-01, 6.77280618e-01],\n",
       "       [1.16680587e-03, 3.00989509e-01, 6.97843685e-01],\n",
       "       [4.46290865e-04, 2.02461924e-01, 7.97091785e-01],\n",
       "       [2.15227432e-03, 2.48822456e-01, 7.49025270e-01],\n",
       "       [8.09069371e-04, 2.94422745e-01, 7.04768186e-01],\n",
       "       [2.91162367e-04, 2.24919706e-01, 7.74789132e-01],\n",
       "       [4.50477099e-04, 1.53984748e-01, 8.45564775e-01],\n",
       "       [1.15724730e-03, 2.33616548e-01, 7.65226205e-01],\n",
       "       [9.19025197e-04, 3.79220387e-01, 6.19860588e-01],\n",
       "       [1.45811816e-03, 2.98379693e-01, 7.00162189e-01],\n",
       "       [1.09779827e-03, 1.31785617e-01, 8.67116585e-01],\n",
       "       [1.68397530e-03, 2.81057800e-01, 7.17258224e-01]])"
      ]
     },
     "execution_count": 27,
     "metadata": {},
     "output_type": "execute_result"
    }
   ],
   "source": [
    "logit.predict_proba(X)"
   ]
  },
  {
   "cell_type": "code",
   "execution_count": 28,
   "metadata": {
    "collapsed": true
   },
   "outputs": [],
   "source": [
    "logit.set_params(penalty='Lasso', solver='sgd')"
   ]
  },
  {
   "cell_type": "code",
   "execution_count": 29,
   "metadata": {
    "collapsed": true
   },
   "outputs": [],
   "source": [
    "accuracies = []\n",
    "coefs      = []\n",
    "intercepts = []\n",
    "\n",
    "alphas   = [0.0001, 0.01, 0.1, 1]\n",
    "for alpha in alphas:\n",
    "    logit.set_params(alpha=alpha, max_iter=1000)\n",
    "    logit.fit(X,Y)\n",
    "    accuracies.append(logit.score(X,Y))\n",
    "    coefs.append(logit.coef_)\n",
    "    intercepts.append(logit.intercept_)\n",
    "    \n",
    "   \n",
    "    "
   ]
  },
  {
   "cell_type": "code",
   "execution_count": 30,
   "metadata": {},
   "outputs": [
    {
     "data": {
      "text/plain": [
       "[array([[   6.09741169,   21.59138589,  -30.60427541,  -17.61129427],\n",
       "        [  75.15475364, -162.85238454,   36.12776208, -179.01241968],\n",
       "        [-200.78760375, -188.43771484,  306.21985596,  232.22784809]]),\n",
       " array([[  0.36143257,   5.37059152,  -9.12262113,  -2.83972888],\n",
       "        [  1.85328664,  -4.8496015 ,   0.88045037,  -4.19130271],\n",
       "        [-10.22666   , -10.47243951,  16.1273999 ,  12.1135891 ]]),\n",
       " array([[ 0.        ,  1.180195  , -1.74589641,  0.        ],\n",
       "        [ 0.        , -0.26548774,  0.        ,  0.        ],\n",
       "        [-0.50171912, -0.28381169,  1.10353261,  0.        ]]),\n",
       " array([[ 0.       ,  0.       , -0.0650023,  0.       ],\n",
       "        [ 0.       ,  0.       ,  0.       ,  0.       ],\n",
       "        [ 0.       ,  0.       ,  0.       ,  0.       ]])]"
      ]
     },
     "execution_count": 30,
     "metadata": {},
     "output_type": "execute_result"
    }
   ],
   "source": [
    "coefs"
   ]
  },
  {
   "cell_type": "code",
   "execution_count": 31,
   "metadata": {},
   "outputs": [
    {
     "data": {
      "text/plain": [
       "[array([  4.99002989,  86.43723926, -95.34010927]),\n",
       " array([ 1.37292115,  3.06351952, -6.32087537]),\n",
       " array([ 1.0785596 , -0.19066449, -1.92902876]),\n",
       " array([-0.16534943, -0.65065489, -0.53107243])]"
      ]
     },
     "execution_count": 31,
     "metadata": {},
     "output_type": "execute_result"
    }
   ],
   "source": [
    "intercepts"
   ]
  },
  {
   "cell_type": "code",
   "execution_count": 32,
   "metadata": {},
   "outputs": [
    {
     "data": {
      "text/plain": [
       "Text(0.5, 1.0, 'SGD Logistic Regression Accuracies')"
      ]
     },
     "execution_count": 32,
     "metadata": {},
     "output_type": "execute_result"
    },
    {
     "data": {
      "image/png": "[encoded data removed]",
      "text/plain": [
       "<Figure size 432x288 with 1 Axes>"
      ]
     },
     "metadata": {},
     "output_type": "display_data"
    }
   ],
   "source": [
    "plt.plot(alphas, accuracies)\n",
    "plt.title('SGD Logistic Regression Accuracies')"
   ]
  },
  {
   "cell_type": "code",
   "execution_count": 33,
   "metadata": {},
   "outputs": [
    {
     "data": {
      "text/plain": [
       "SGDClassifier(alpha=1, average=False, class_weight=None, epsilon=0.1,\n",
       "       eta0=0.0, fit_intercept=True, l1_ratio=0.15,\n",
       "       learning_rate='optimal', loss='log', max_iter=1000, n_iter=None,\n",
       "       n_jobs=1, penalty='l1', power_t=0.5, random_state=None,\n",
       "       shuffle=True, tol=1e-06, verbose=0, warm_start=False)"
      ]
     },
     "execution_count": 33,
     "metadata": {},
     "output_type": "execute_result"
    }
   ],
   "source": [
    "logit.model"
   ]
  },
  {
   "cell_type": "code",
   "execution_count": 34,
   "metadata": {},
   "outputs": [
    {
     "data": {
      "text/plain": [
       "array([[0.37956514, 0.29828705, 0.32214781],\n",
       "       [0.37956514, 0.29828705, 0.32214781],\n",
       "       [0.38042726, 0.29787257, 0.32170017],\n",
       "       [0.37870135, 0.29870234, 0.32259632],\n",
       "       [0.37956514, 0.29828705, 0.32214781],\n",
       "       [0.37696875, 0.29953532, 0.32349593],\n",
       "       [0.37956514, 0.29828705, 0.32214781],\n",
       "       [0.37870135, 0.29870234, 0.32259632],\n",
       "       [0.37956514, 0.29828705, 0.32214781],\n",
       "       [0.37870135, 0.29870234, 0.32259632],\n",
       "       [0.37870135, 0.29870234, 0.32259632],\n",
       "       [0.37783587, 0.29911843, 0.32304569],\n",
       "       [0.37956514, 0.29828705, 0.32214781],\n",
       "       [0.38214637, 0.29704607, 0.32080756],\n",
       "       [0.38128767, 0.29745891, 0.32125342],\n",
       "       [0.37870135, 0.29870234, 0.32259632],\n",
       "       [0.38042726, 0.29787257, 0.32170017],\n",
       "       [0.37956514, 0.29828705, 0.32214781],\n",
       "       [0.37696875, 0.29953532, 0.32349593],\n",
       "       [0.37870135, 0.29870234, 0.32259632],\n",
       "       [0.37696875, 0.29953532, 0.32349593],\n",
       "       [0.37870135, 0.29870234, 0.32259632],\n",
       "       [0.38300335, 0.29663406, 0.32036259],\n",
       "       [0.37696875, 0.29953532, 0.32349593],\n",
       "       [0.37522957, 0.30037147, 0.32439896],\n",
       "       [0.37783587, 0.29911843, 0.32304569],\n",
       "       [0.37783587, 0.29911843, 0.32304569],\n",
       "       [0.37870135, 0.29870234, 0.32259632],\n",
       "       [0.37956514, 0.29828705, 0.32214781],\n",
       "       [0.37783587, 0.29911843, 0.32304569],\n",
       "       [0.37783587, 0.29911843, 0.32304569],\n",
       "       [0.37870135, 0.29870234, 0.32259632],\n",
       "       [0.37870135, 0.29870234, 0.32259632],\n",
       "       [0.37956514, 0.29828705, 0.32214781],\n",
       "       [0.37870135, 0.29870234, 0.32259632],\n",
       "       [0.38128767, 0.29745891, 0.32125342],\n",
       "       [0.38042726, 0.29787257, 0.32170017],\n",
       "       [0.37870135, 0.29870234, 0.32259632],\n",
       "       [0.38042726, 0.29787257, 0.32170017],\n",
       "       [0.37870135, 0.29870234, 0.32259632],\n",
       "       [0.38042726, 0.29787257, 0.32170017],\n",
       "       [0.38042726, 0.29787257, 0.32170017],\n",
       "       [0.38042726, 0.29787257, 0.32170017],\n",
       "       [0.37783587, 0.29911843, 0.32304569],\n",
       "       [0.37522957, 0.30037147, 0.32439896],\n",
       "       [0.37956514, 0.29828705, 0.32214781],\n",
       "       [0.37783587, 0.29911843, 0.32304569],\n",
       "       [0.37956514, 0.29828705, 0.32214781],\n",
       "       [0.37870135, 0.29870234, 0.32259632],\n",
       "       [0.37956514, 0.29828705, 0.32214781],\n",
       "       [0.35025527, 0.31237839, 0.33736635],\n",
       "       [0.35207415, 0.31150392, 0.33642193],\n",
       "       [0.34843164, 0.31325513, 0.33831322],\n",
       "       [0.35659976, 0.30932814, 0.3340721 ],\n",
       "       [0.35116531, 0.31194086, 0.33689383],\n",
       "       [0.35207415, 0.31150392, 0.33642193],\n",
       "       [0.35025527, 0.31237839, 0.33736635],\n",
       "       [0.36288056, 0.30630851, 0.33081092],\n",
       "       [0.35116531, 0.31194086, 0.33689383],\n",
       "       [0.35750105, 0.30889483, 0.33360413],\n",
       "       [0.36109287, 0.30716798, 0.33173915],\n",
       "       [0.3547933 , 0.31019663, 0.33501007],\n",
       "       [0.35659976, 0.30932814, 0.3340721 ],\n",
       "       [0.35025527, 0.31237839, 0.33736635],\n",
       "       [0.36019695, 0.30759872, 0.33220434],\n",
       "       [0.35298178, 0.31106756, 0.33595066],\n",
       "       [0.35207415, 0.31150392, 0.33642193],\n",
       "       [0.35569718, 0.30976208, 0.33454075],\n",
       "       [0.35207415, 0.31150392, 0.33642193],\n",
       "       [0.35750105, 0.30889483, 0.33360413],\n",
       "       [0.34934404, 0.31281648, 0.33783948],\n",
       "       [0.35659976, 0.30932814, 0.3340721 ],\n",
       "       [0.34843164, 0.31325513, 0.33831322],\n",
       "       [0.35025527, 0.31237839, 0.33736635],\n",
       "       [0.35388817, 0.31063179, 0.33548004],\n",
       "       [0.35298178, 0.31106756, 0.33595066],\n",
       "       [0.34934404, 0.31281648, 0.33783948],\n",
       "       [0.3475181 , 0.31369434, 0.33878756],\n",
       "       [0.35207415, 0.31150392, 0.33642193],\n",
       "       [0.36109287, 0.30716798, 0.33173915],\n",
       "       [0.35840102, 0.30846215, 0.33313683],\n",
       "       [0.35929966, 0.30803011, 0.33267024],\n",
       "       [0.35750105, 0.30889483, 0.33360413],\n",
       "       [0.34660342, 0.31413409, 0.33926249],\n",
       "       [0.35207415, 0.31150392, 0.33642193],\n",
       "       [0.35207415, 0.31150392, 0.33642193],\n",
       "       [0.35025527, 0.31237839, 0.33736635],\n",
       "       [0.35298178, 0.31106756, 0.33595066],\n",
       "       [0.35569718, 0.30976208, 0.33454075],\n",
       "       [0.35659976, 0.30932814, 0.3340721 ],\n",
       "       [0.35298178, 0.31106756, 0.33595066],\n",
       "       [0.35116531, 0.31194086, 0.33689383],\n",
       "       [0.35659976, 0.30932814, 0.3340721 ],\n",
       "       [0.36288056, 0.30630851, 0.33081092],\n",
       "       [0.3547933 , 0.31019663, 0.33501007],\n",
       "       [0.3547933 , 0.31019663, 0.33501007],\n",
       "       [0.3547933 , 0.31019663, 0.33501007],\n",
       "       [0.35388817, 0.31063179, 0.33548004],\n",
       "       [0.36555148, 0.30502441, 0.32942411],\n",
       "       [0.35569718, 0.30976208, 0.33454075],\n",
       "       [0.33832322, 0.31811497, 0.34356181],\n",
       "       [0.34660342, 0.31413409, 0.33926249],\n",
       "       [0.3392473 , 0.3176707 , 0.343082  ],\n",
       "       [0.34201365, 0.31634072, 0.34164564],\n",
       "       [0.34017042, 0.31722689, 0.34260269],\n",
       "       [0.33275924, 0.32078997, 0.34645079],\n",
       "       [0.35207415, 0.31150392, 0.33642193],\n",
       "       [0.33554529, 0.31945052, 0.3450042 ],\n",
       "       [0.34017042, 0.31722689, 0.34260269],\n",
       "       [0.33739817, 0.3185597 , 0.34404212],\n",
       "       [0.34660342, 0.31413409, 0.33926249],\n",
       "       [0.34477074, 0.31501519, 0.34021407],\n",
       "       [0.34293373, 0.31589837, 0.3411679 ],\n",
       "       [0.3475181 , 0.31369434, 0.33878756],\n",
       "       [0.34660342, 0.31413409, 0.33926249],\n",
       "       [0.34477074, 0.31501519, 0.34021407],\n",
       "       [0.34293373, 0.31589837, 0.3411679 ],\n",
       "       [0.33182884, 0.32123728, 0.34693388],\n",
       "       [0.32996557, 0.32213308, 0.34790135],\n",
       "       [0.3475181 , 0.31369434, 0.33878756],\n",
       "       [0.34109254, 0.31678356, 0.3421239 ],\n",
       "       [0.34843164, 0.31325513, 0.33831322],\n",
       "       [0.33182884, 0.32123728, 0.34693388],\n",
       "       [0.34843164, 0.31325513, 0.33831322],\n",
       "       [0.34109254, 0.31678356, 0.3421239 ],\n",
       "       [0.33832322, 0.31811497, 0.34356181],\n",
       "       [0.34934404, 0.31281648, 0.33783948],\n",
       "       [0.34843164, 0.31325513, 0.33831322],\n",
       "       [0.34201365, 0.31634072, 0.34164564],\n",
       "       [0.34017042, 0.31722689, 0.34260269],\n",
       "       [0.33739817, 0.3185597 , 0.34404212],\n",
       "       [0.33461748, 0.31989658, 0.34548594],\n",
       "       [0.34201365, 0.31634072, 0.34164564],\n",
       "       [0.34660342, 0.31413409, 0.33926249],\n",
       "       [0.34201365, 0.31634072, 0.34164564],\n",
       "       [0.33739817, 0.3185597 , 0.34404212],\n",
       "       [0.34201365, 0.31634072, 0.34164564],\n",
       "       [0.34293373, 0.31589837, 0.3411679 ],\n",
       "       [0.34934404, 0.31281648, 0.33783948],\n",
       "       [0.34385276, 0.31545652, 0.34069071],\n",
       "       [0.34201365, 0.31634072, 0.34164564],\n",
       "       [0.34660342, 0.31413409, 0.33926249],\n",
       "       [0.34660342, 0.31413409, 0.33926249],\n",
       "       [0.3392473 , 0.3176707 , 0.343082  ],\n",
       "       [0.34109254, 0.31678356, 0.3421239 ],\n",
       "       [0.34568763, 0.31457437, 0.339738  ],\n",
       "       [0.3475181 , 0.31369434, 0.33878756],\n",
       "       [0.34568763, 0.31457437, 0.339738  ],\n",
       "       [0.34385276, 0.31545652, 0.34069071],\n",
       "       [0.34660342, 0.31413409, 0.33926249]])"
      ]
     },
     "execution_count": 34,
     "metadata": {},
     "output_type": "execute_result"
    }
   ],
   "source": [
    "logit.predict_proba(X)"
   ]
  },
  {
   "cell_type": "code",
   "execution_count": null,
   "metadata": {
    "collapsed": true
   },
   "outputs": [],
   "source": []
  }
 ],
 "metadata": {
  "kernelspec": {
   "display_name": "Python [default]",
   "language": "python",
   "name": "python3"
  },
  "language_info": {
   "codemirror_mode": {
    "name": "ipython",
    "version": 3
   },
   "file_extension": ".py",
   "mimetype": "text/x-python",
   "name": "python",
   "nbconvert_exporter": "python",
   "pygments_lexer": "ipython3",
   "version": "3.5.4"
  }
 },
 "nbformat": 4,
 "nbformat_minor": 2
}
