{
 "cells": [
  {
   "cell_type": "markdown",
   "metadata": {},
   "source": [
    "# Discriminant Analysis and Naive Bayes Homework"
   ]
  },
  {
   "cell_type": "markdown",
   "metadata": {},
   "source": [
    "## Problem 1 \n",
    "- Multivariate Gaussian Distribution"
   ]
  },
  {
   "cell_type": "code",
   "execution_count": 1,
   "metadata": {
    "collapsed": true
   },
   "outputs": [],
   "source": [
    "%matplotlib inline\n",
    "import matplotlib.pyplot as plt\n",
    "from scipy.stats import multivariate_normal\n",
    "np.random.seed(100)"
   ]
  },
  {
   "cell_type": "markdown",
   "metadata": {},
   "source": [
    "## Part A\n",
    "- the multivariate_normal constructor depends on **mean** and **cov**, where **mean** is the center of the multivariate Gaussian distribution and **cov** is the $N\\times N$ covariance matrix ($N$ is the number of features)\n",
    "- Generate two **2D** **multivariate_normal** objects, one with **mean=[1,1]**, **cov=[[2,0.6],[0.6,2]]**, another one with **mean=[10,4]** and **cov=[[1,0],[0,1]]**\n",
    "- Use **rvs** method of the **multivariate_normal** objects to generate $1000$ and $500$ samples, respectively.\n",
    "- Plot these data points in a single scatter plot using plt.scatter "
   ]
  },
  {
   "cell_type": "code",
   "execution_count": 2,
   "metadata": {
    "collapsed": true
   },
   "outputs": [],
   "source": [
    "cov1 = [[2,0.6],[0.6,2]]\n",
    "gd = multivariate_normal(?)\n",
    "gd2 = multivariate_normal(?)\n",
    "\n",
    "\n",
    "xy  = gd.rvs(?)\n",
    "xy2 = gd2.rvs(?)"
   ]
  },
  {
   "cell_type": "code",
   "execution_count": 3,
   "metadata": {},
   "outputs": [
    {
     "data": {
      "text/plain": [
       "<matplotlib.collections.PathCollection at 0x10da22d30>"
      ]
     },
     "execution_count": 3,
     "metadata": {},
     "output_type": "execute_result"
    },
    {
     "data": {
      "image/png": "[encoded data removed]",
      "text/plain": [
       "<matplotlib.figure.Figure at 0x10d9d2668>"
      ]
     },
     "metadata": {},
     "output_type": "display_data"
    }
   ],
   "source": [
    "plt.scatter(xy[:,0], xy[:,1])\n",
    "plt.scatter(xy2[:,0], xy2[:,1])"
   ]
  },
  {
   "cell_type": "markdown",
   "metadata": {},
   "source": [
    "## Part B\n",
    "- Run a linear regression on the first $1000$ data points with **mean=[1,1]**, **cov=[[2,0.6],[0.6,2]]**\n",
    "- Please explain the relationship between the regression slope coefficient and the covariance matrix of the data"
   ]
  },
  {
   "cell_type": "code",
   "execution_count": 4,
   "metadata": {},
   "outputs": [
    {
     "name": "stderr",
     "output_type": "stream",
     "text": [
      "//anaconda/lib/python3.5/site-packages/scipy/linalg/basic.py:1226: RuntimeWarning: internal gelsd driver lwork query error, required iwork dimension not returned. This is likely the result of LAPACK bug 0038, fixed in LAPACK 3.2.2 (released July 21, 2010). Falling back to 'gelss' driver.\n",
      "  warnings.warn(mesg, RuntimeWarning)\n"
     ]
    },
    {
     "data": {
      "text/plain": [
       "LinearRegression(copy_X=True, fit_intercept=True, n_jobs=1, normalize=False)"
      ]
     },
     "execution_count": 4,
     "metadata": {},
     "output_type": "execute_result"
    }
   ],
   "source": [
    "from sklearn.linear_model import LinearRegression\n",
    "lm = LinearRegression()\n",
    "lm.fit(?, ?)"
   ]
  },
  {
   "cell_type": "code",
   "execution_count": 5,
   "metadata": {},
   "outputs": [
    {
     "data": {
      "text/plain": [
       "array([0.28818117])"
      ]
     },
     "execution_count": 5,
     "metadata": {},
     "output_type": "execute_result"
    }
   ],
   "source": [
    "lm.coef_"
   ]
  },
  {
   "cell_type": "markdown",
   "metadata": {},
   "source": [
    "## Interpretation of the Slope Coefficient\n",
    "- ?"
   ]
  },
  {
   "cell_type": "markdown",
   "metadata": {},
   "source": [
    "## Part C\n",
    "- Fit a quadratic discriminant analysis model on the $1500$ data such that the first $1000$ samples are labeled class $0$ and the latter $500$ labeled class $1$.\n",
    "- In order for the model to store the model covariance matrices for both classes, we turn on **store_covariance** of **QDA** to True\n",
    "- Investigate the means, covariance matrices and priors of the data by checking the **means_**, **covariance_** and\n",
    "**priors_** attributes of the model object. Verify the estimated means are approximatedly equal to the means and covariances\n",
    "we specify before data generation\n",
    "- What is the meaning of **priors**?"
   ]
  },
  {
   "cell_type": "code",
   "execution_count": 6,
   "metadata": {
    "collapsed": true
   },
   "outputs": [],
   "source": [
    "from sklearn.discriminant_analysis import QuadraticDiscriminantAnalysis"
   ]
  },
  {
   "cell_type": "code",
   "execution_count": 7,
   "metadata": {},
   "outputs": [
    {
     "data": {
      "text/plain": [
       "array([0, 0, 0, ..., 1, 1, 1])"
      ]
     },
     "execution_count": 7,
     "metadata": {},
     "output_type": "execute_result"
    }
   ],
   "source": [
    "QDA  = QuadraticDiscriminantAnalysis(store_covariance=True)\n",
    "\n",
    "data = np.concatenate(?, axis=?)\n",
    "labels = ?  # how to generate the classes labels of the 1000 + 500 samples?\n",
    "\n",
    "QDA.fit(data, labels)"
   ]
  },
  {
   "cell_type": "code",
   "execution_count": 8,
   "metadata": {},
   "outputs": [
    {
     "data": {
      "text/plain": [
       "array([[ 1.00003881,  0.95035253],\n",
       "       [10.13672307,  4.11882287]])"
      ]
     },
     "execution_count": 8,
     "metadata": {},
     "output_type": "execute_result"
    }
   ],
   "source": [
    "QDA.means_"
   ]
  },
  {
   "cell_type": "markdown",
   "metadata": {},
   "source": [
    "- The means of the two classes are very close to their theorectical values"
   ]
  },
  {
   "cell_type": "code",
   "execution_count": 9,
   "metadata": {},
   "outputs": [
    {
     "data": {
      "text/plain": [
       "[array([[2.10235051, 0.60585782],\n",
       "        [0.60585782, 2.09741062]]), array([[3.10657587, 0.0937602 ],\n",
       "        [0.0937602 , 2.83965482]])]"
      ]
     },
     "execution_count": 9,
     "metadata": {},
     "output_type": "execute_result"
    }
   ],
   "source": [
    "QDA.covariance_"
   ]
  },
  {
   "cell_type": "markdown",
   "metadata": {},
   "source": [
    "- Again the estimated covariance matrices are close to their true values"
   ]
  },
  {
   "cell_type": "code",
   "execution_count": 10,
   "metadata": {},
   "outputs": [
    {
     "data": {
      "text/plain": [
       "array([0.66666667, 0.33333333])"
      ]
     },
     "execution_count": 10,
     "metadata": {},
     "output_type": "execute_result"
    }
   ],
   "source": [
    "QDA.priors_"
   ]
  },
  {
   "cell_type": "markdown",
   "metadata": {},
   "source": [
    "- The priors reflect the sample-count-ratio "
   ]
  },
  {
   "cell_type": "markdown",
   "metadata": {},
   "source": [
    "## Part D\n",
    "- Overlay on the two-class data scatterplot and the **QDA** decision boundary\n",
    "- The main ingradients to plot the decision boundary are \n",
    "      - the decision_function of the **QDA** model object\n",
    "      - the np.meshgrid function (to generate a 2D lattice grid)\n",
    "      - plt.contour for a **contour** plot  \n",
    "- Please fill in the following code segment (on ? parts) to outline the decision boundary \n",
    "- Research online for the basic properties of np.meshgrid, plt.contour if it is necessary"
   ]
  },
  {
   "cell_type": "markdown",
   "metadata": {},
   "source": [
    "## Please try to Finish the Code Below\n",
    "\n",
    "X = np.linspace(-10,10,100)\n",
    "\n",
    "Y = np.linspace(-10,10,100)\n",
    "\n",
    "X, Y = np.meshgrid(X,Y)  # Generate a 100 x 100 lattice grid of x, y  coordinates\n",
    "\n",
    "Z = QDA.decision_function(?)\n",
    "\n",
    "Z = Z.reshape((100,100)) # need to reshape the output from (10000,1) to (100, 100)\n",
    " \n",
    "plt.scatter(?)\n",
    "\n",
    "plt.scatter(?)\n",
    "\n",
    "plt.contour(?, levels=[0])"
   ]
  },
  {
   "cell_type": "code",
   "execution_count": 11,
   "metadata": {},
   "outputs": [
    {
     "data": {
      "text/plain": [
       "<matplotlib.contour.QuadContourSet at 0x10e1d2940>"
      ]
     },
     "execution_count": 11,
     "metadata": {},
     "output_type": "execute_result"
    },
    {
     "data": {
      "image/png": "[encoded data removed]",
      "text/plain": [
       "<matplotlib.figure.Figure at 0x10e1bc5f8>"
      ]
     },
     "metadata": {},
     "output_type": "display_data"
    }
   ],
   "source": []
  },
  {
   "cell_type": "markdown",
   "metadata": {},
   "source": [
    "## Problem 2\n",
    "- Given a two step random number generation procedure as being described below, please determine the **PDF** \n",
    "(probability density function) of the resulting distribution.\n",
    "- Step I: Drawing an unfair coin with faces $A$ and $B$, $70\\%$ to face $A$, and $30\\%$ to face $B$.\n",
    "- Step IIA: Given that the outcome in step I is $A$, draw a random number from the following distribution\n",
    "with **pdf** called **pdf_A**,    \n"
   ]
  },
  {
   "cell_type": "code",
   "execution_count": 1,
   "metadata": {
    "scrolled": false
   },
   "outputs": [
    {
     "data": {
      "text/plain": [
       "Text(0.5,1,'pdf of distribution A')"
      ]
     },
     "execution_count": 1,
     "metadata": {},
     "output_type": "execute_result"
    },
    {
     "data": {
      "image/png": "[encoded data removed]",
      "text/plain": [
       "<matplotlib.figure.Figure at 0x10e064278>"
      ]
     },
     "metadata": {},
     "output_type": "display_data"
    }
   ],
   "source": [
    "def pdf_A(x):\n",
    "    if x < 0 or x > 1: return 0\n",
    "    elif x < 0.5:\n",
    "        return 4 * x\n",
    "    elif x > 0.5:\n",
    "        return -4 * (x - 1)\n",
    "\n",
    "import numpy as np\n",
    "%matplotlib inline\n",
    "import matplotlib.pyplot as plt\n",
    "\n",
    "X = np.linspace(-1.0,4.0,200)\n",
    "Y = np.array(list(map(pdf_A, X)))\n",
    "plt.plot(X, Y)\n",
    "plt.title('pdf of distribution A')"
   ]
  },
  {
   "cell_type": "markdown",
   "metadata": {},
   "source": [
    "- Step IIB: Given that the outcome in step II is $B$, draw a random number from the following distribution with\n",
    "**pdf** called **pdf_B**."
   ]
  },
  {
   "cell_type": "code",
   "execution_count": 3,
   "metadata": {
    "scrolled": false
   },
   "outputs": [
    {
     "data": {
      "text/plain": [
       "Text(0.5,1,'pdf of distribution B')"
      ]
     },
     "execution_count": 3,
     "metadata": {},
     "output_type": "execute_result"
    },
    {
     "data": {
      "image/png": "[encoded data removed]",
      "text/plain": [
       "<matplotlib.figure.Figure at 0x111cede80>"
      ]
     },
     "metadata": {},
     "output_type": "display_data"
    }
   ],
   "source": [
    "def pdf_B(x):\n",
    "    if x < 1 or x > 3: return 0\n",
    "    elif x < 2:\n",
    "        return 1 * (x-1)\n",
    "    elif x > 2:\n",
    "        return -1 * (x - 3)\n",
    "\n",
    "import numpy as np\n",
    "%matplotlib inline\n",
    "import matplotlib.pyplot as plt\n",
    "\n",
    "X = np.linspace(-1.0,4.0,200)\n",
    "Y = np.array(list(map(pdf_B, X)))\n",
    "plt.plot(X, Y, 'r')\n",
    "plt.ylim((0,2))\n",
    "plt.title('pdf of distribution B')"
   ]
  },
  {
   "cell_type": "markdown",
   "metadata": {},
   "source": [
    "## What is the PDF?\n",
    "- Based on the above description of the two step process, please define the **pdf** of the resulting random variable and plot it.\n",
    "\n",
    "${\\bf Hint}$: Bayes theorem and the discussion in our lecture on \"red/black balls in two boxes\" are relevant."
   ]
  },
  {
   "cell_type": "code",
   "execution_count": 4,
   "metadata": {
    "collapsed": true
   },
   "outputs": [],
   "source": [
    "def pdf(x):\n",
    "    pass\n",
    "\n",
    "## plotting your pdf below"
   ]
  },
  {
   "cell_type": "markdown",
   "metadata": {},
   "source": [
    "### Problem 3\n",
    "\n",
    "There are three files in the \"data\" folder:\n",
    "\n",
    "    - \"spam_train.csv\"\n",
    "    - \"spam_test.csv\"\n",
    "    - \"spam.txt\"\n",
    "\n",
    "The file \"spam_train.csv\" in the \"data\" folder contains 2300 emails and 58 variables. The last variable \"spam\" is a factor with two levels: \"email\", \"spam\". If you want to know more information about the data set, please read the file \"spam.txt\".\n",
    "\n",
    "Your assignment is based on the \"spam_train.csv\" file, try to build a classifier to predict the variable \"spam\". \n",
    "You need to write a report on ***LogisticRegression, LDA, QDA, GNB, MNB, BNB*** models we have learned. Be sure to record:\n",
    "\n",
    "- (1) The features you used to make your prediction.\n",
    "- (2) The corresponding accuracy on the training set.\n",
    "- (3) The corresponding accuracy on the test set (spam_test.csv).\n",
    "- (4) The comparative performance of the models.\n",
    "\n",
    "    \n",
    "The following codes may be a useful beginning:"
   ]
  },
  {
   "cell_type": "code",
   "execution_count": 12,
   "metadata": {},
   "outputs": [
    {
     "data": {
      "text/html": [
       "<div>\n",
       "<style scoped>\n",
       "    .dataframe tbody tr th:only-of-type {\n",
       "        vertical-align: middle;\n",
       "    }\n",
       "\n",
       "    .dataframe tbody tr th {\n",
       "        vertical-align: top;\n",
       "    }\n",
       "\n",
       "    .dataframe thead th {\n",
       "        text-align: right;\n",
       "    }\n",
       "</style>\n",
       "<table border=\"1\" class=\"dataframe\">\n",
       "  <thead>\n",
       "    <tr style=\"text-align: right;\">\n",
       "      <th></th>\n",
       "      <th>A.1</th>\n",
       "      <th>A.2</th>\n",
       "      <th>A.3</th>\n",
       "      <th>A.4</th>\n",
       "      <th>A.5</th>\n",
       "      <th>A.6</th>\n",
       "      <th>A.7</th>\n",
       "      <th>A.8</th>\n",
       "      <th>A.9</th>\n",
       "      <th>A.10</th>\n",
       "      <th>...</th>\n",
       "      <th>A.49</th>\n",
       "      <th>A.50</th>\n",
       "      <th>A.51</th>\n",
       "      <th>A.52</th>\n",
       "      <th>A.53</th>\n",
       "      <th>A.54</th>\n",
       "      <th>A.55</th>\n",
       "      <th>A.56</th>\n",
       "      <th>A.57</th>\n",
       "      <th>spam</th>\n",
       "    </tr>\n",
       "  </thead>\n",
       "  <tbody>\n",
       "    <tr>\n",
       "      <th>0</th>\n",
       "      <td>0.32</td>\n",
       "      <td>0.0</td>\n",
       "      <td>0.00</td>\n",
       "      <td>0.0</td>\n",
       "      <td>0.32</td>\n",
       "      <td>0.00</td>\n",
       "      <td>0.0</td>\n",
       "      <td>0.0</td>\n",
       "      <td>0.0</td>\n",
       "      <td>0.0</td>\n",
       "      <td>...</td>\n",
       "      <td>0.0</td>\n",
       "      <td>0.234</td>\n",
       "      <td>0.0</td>\n",
       "      <td>0.058</td>\n",
       "      <td>0.0</td>\n",
       "      <td>0.0</td>\n",
       "      <td>1.068</td>\n",
       "      <td>3</td>\n",
       "      <td>47</td>\n",
       "      <td>email</td>\n",
       "    </tr>\n",
       "    <tr>\n",
       "      <th>1</th>\n",
       "      <td>0.00</td>\n",
       "      <td>0.0</td>\n",
       "      <td>0.71</td>\n",
       "      <td>0.0</td>\n",
       "      <td>0.00</td>\n",
       "      <td>0.00</td>\n",
       "      <td>0.0</td>\n",
       "      <td>0.0</td>\n",
       "      <td>0.0</td>\n",
       "      <td>0.0</td>\n",
       "      <td>...</td>\n",
       "      <td>0.0</td>\n",
       "      <td>0.000</td>\n",
       "      <td>0.0</td>\n",
       "      <td>0.342</td>\n",
       "      <td>0.0</td>\n",
       "      <td>0.0</td>\n",
       "      <td>1.000</td>\n",
       "      <td>1</td>\n",
       "      <td>31</td>\n",
       "      <td>email</td>\n",
       "    </tr>\n",
       "    <tr>\n",
       "      <th>2</th>\n",
       "      <td>0.00</td>\n",
       "      <td>0.0</td>\n",
       "      <td>0.00</td>\n",
       "      <td>0.0</td>\n",
       "      <td>0.00</td>\n",
       "      <td>0.17</td>\n",
       "      <td>0.0</td>\n",
       "      <td>0.0</td>\n",
       "      <td>0.0</td>\n",
       "      <td>0.0</td>\n",
       "      <td>...</td>\n",
       "      <td>0.0</td>\n",
       "      <td>0.055</td>\n",
       "      <td>0.0</td>\n",
       "      <td>0.000</td>\n",
       "      <td>0.0</td>\n",
       "      <td>0.0</td>\n",
       "      <td>1.685</td>\n",
       "      <td>7</td>\n",
       "      <td>204</td>\n",
       "      <td>email</td>\n",
       "    </tr>\n",
       "    <tr>\n",
       "      <th>3</th>\n",
       "      <td>0.00</td>\n",
       "      <td>0.0</td>\n",
       "      <td>0.00</td>\n",
       "      <td>0.0</td>\n",
       "      <td>0.00</td>\n",
       "      <td>0.00</td>\n",
       "      <td>0.0</td>\n",
       "      <td>0.0</td>\n",
       "      <td>0.0</td>\n",
       "      <td>0.0</td>\n",
       "      <td>...</td>\n",
       "      <td>0.0</td>\n",
       "      <td>0.000</td>\n",
       "      <td>0.0</td>\n",
       "      <td>0.000</td>\n",
       "      <td>0.0</td>\n",
       "      <td>0.0</td>\n",
       "      <td>1.800</td>\n",
       "      <td>5</td>\n",
       "      <td>9</td>\n",
       "      <td>email</td>\n",
       "    </tr>\n",
       "    <tr>\n",
       "      <th>4</th>\n",
       "      <td>0.00</td>\n",
       "      <td>0.0</td>\n",
       "      <td>0.00</td>\n",
       "      <td>0.0</td>\n",
       "      <td>0.00</td>\n",
       "      <td>0.00</td>\n",
       "      <td>0.0</td>\n",
       "      <td>0.0</td>\n",
       "      <td>0.0</td>\n",
       "      <td>0.0</td>\n",
       "      <td>...</td>\n",
       "      <td>0.0</td>\n",
       "      <td>0.471</td>\n",
       "      <td>0.0</td>\n",
       "      <td>0.000</td>\n",
       "      <td>0.0</td>\n",
       "      <td>0.0</td>\n",
       "      <td>1.424</td>\n",
       "      <td>8</td>\n",
       "      <td>47</td>\n",
       "      <td>email</td>\n",
       "    </tr>\n",
       "  </tbody>\n",
       "</table>\n",
       "<p>5 rows × 58 columns</p>\n",
       "</div>"
      ],
      "text/plain": [
       "    A.1  A.2   A.3  A.4   A.5   A.6  A.7  A.8  A.9  A.10  ...    A.49   A.50  \\\n",
       "0  0.32  0.0  0.00  0.0  0.32  0.00  0.0  0.0  0.0   0.0  ...     0.0  0.234   \n",
       "1  0.00  0.0  0.71  0.0  0.00  0.00  0.0  0.0  0.0   0.0  ...     0.0  0.000   \n",
       "2  0.00  0.0  0.00  0.0  0.00  0.17  0.0  0.0  0.0   0.0  ...     0.0  0.055   \n",
       "3  0.00  0.0  0.00  0.0  0.00  0.00  0.0  0.0  0.0   0.0  ...     0.0  0.000   \n",
       "4  0.00  0.0  0.00  0.0  0.00  0.00  0.0  0.0  0.0   0.0  ...     0.0  0.471   \n",
       "\n",
       "   A.51   A.52  A.53  A.54   A.55  A.56  A.57   spam  \n",
       "0   0.0  0.058   0.0   0.0  1.068     3    47  email  \n",
       "1   0.0  0.342   0.0   0.0  1.000     1    31  email  \n",
       "2   0.0  0.000   0.0   0.0  1.685     7   204  email  \n",
       "3   0.0  0.000   0.0   0.0  1.800     5     9  email  \n",
       "4   0.0  0.000   0.0   0.0  1.424     8    47  email  \n",
       "\n",
       "[5 rows x 58 columns]"
      ]
     },
     "execution_count": 12,
     "metadata": {},
     "output_type": "execute_result"
    }
   ],
   "source": [
    "# import required libraries\n",
    "import pandas as pd\n",
    "import numpy as np\n",
    "\n",
    "# read in the train and test csv\n",
    "train = pd.read_csv('data/spam_train.csv')\n",
    "test = pd.read_csv('data/spam_test.csv')\n",
    "\n",
    "# separate the predictors and response in the training data set\n",
    "x_train = np.array(train.iloc[:, 0:57])\n",
    "y_train = np.array(train.iloc[:, -1])\n",
    "\n",
    "# separate the predictors and response in the test data set\n",
    "x_test = np.array(test.iloc[:, 0:57])\n",
    "y_test = np.array(test.iloc[:, -1])\n",
    "\n",
    "## have a look at the training data set\n",
    "train.head()"
   ]
  },
  {
   "cell_type": "code",
   "execution_count": 13,
   "metadata": {
    "collapsed": true
   },
   "outputs": [],
   "source": [
    "# import ML models\n",
    "from sklearn import linear_model, discriminant_analysis, naive_bayes\n",
    "\n",
    "logit = linear_model.LogisticRegression()\n",
    "LDA  = discriminant_analysis.LinearDiscriminantAnalysis()\n",
    "QDA  = discriminant_analysis.QuadraticDiscriminantAnalysis()\n",
    "GNB  = naive_bayes.GaussianNB()\n",
    "MNB  = naive_bayes.MultinomialNB()\n",
    "BNB  = naive_bayes.BernoulliNB(binarize=1.5)"
   ]
  },
  {
   "cell_type": "markdown",
   "metadata": {},
   "source": [
    "## Saving the list of models into a pandas series\n",
    "- To write clean code, we save all the models above into a list of models\n",
    "- Then we convert them into a pandas series of models"
   ]
  },
  {
   "cell_type": "code",
   "execution_count": 14,
   "metadata": {
    "collapsed": true
   },
   "outputs": [],
   "source": [
    "modelList = [logit, LDA, QDA, GNB, MNB, BNB]\n",
    "modelSeries = pd.Series(modelList, index=['Logitistic', 'LDA', 'QDA', 'GNB', 'MNB', 'BNB'])"
   ]
  },
  {
   "cell_type": "markdown",
   "metadata": {},
   "source": [
    "- Fit the models within the pd.Series using pd.Series **apply** method and a lambda function derived from model.fit"
   ]
  },
  {
   "cell_type": "code",
   "execution_count": 15,
   "metadata": {},
   "outputs": [
    {
     "name": "stderr",
     "output_type": "stream",
     "text": [
      "//anaconda/lib/python3.5/site-packages/sklearn/discriminant_analysis.py:682: UserWarning: Variables are collinear\n",
      "  warnings.warn(\"Variables are collinear\")\n"
     ]
    },
    {
     "data": {
      "text/plain": [
       "Logitistic    LogisticRegression(C=1.0, class_weight=None, d...\n",
       "LDA           LinearDiscriminantAnalysis(n_components=None, ...\n",
       "QDA           QuadraticDiscriminantAnalysis(priors=None, reg...\n",
       "GNB                                     GaussianNB(priors=None)\n",
       "MNB           MultinomialNB(alpha=1.0, class_prior=None, fit...\n",
       "BNB           BernoulliNB(alpha=1.0, binarize=1.5, class_pri...\n",
       "dtype: object"
      ]
     },
     "execution_count": 15,
     "metadata": {},
     "output_type": "execute_result"
    }
   ],
   "source": [
    "# fit all the models to the training data\n",
    "# How to do it when the models are stored in a pandas Series?\n",
    "modelSeries.?"
   ]
  },
  {
   "cell_type": "code",
   "execution_count": 16,
   "metadata": {},
   "outputs": [
    {
     "data": {
      "text/html": [
       "<div>\n",
       "<style scoped>\n",
       "    .dataframe tbody tr th:only-of-type {\n",
       "        vertical-align: middle;\n",
       "    }\n",
       "\n",
       "    .dataframe tbody tr th {\n",
       "        vertical-align: top;\n",
       "    }\n",
       "\n",
       "    .dataframe thead th {\n",
       "        text-align: right;\n",
       "    }\n",
       "</style>\n",
       "<table border=\"1\" class=\"dataframe\">\n",
       "  <thead>\n",
       "    <tr style=\"text-align: right;\">\n",
       "      <th></th>\n",
       "      <th>train score</th>\n",
       "      <th>test score</th>\n",
       "    </tr>\n",
       "  </thead>\n",
       "  <tbody>\n",
       "    <tr>\n",
       "      <th>Logitistic</th>\n",
       "      <td>0.931304</td>\n",
       "      <td>0.924381</td>\n",
       "    </tr>\n",
       "    <tr>\n",
       "      <th>LDA</th>\n",
       "      <td>0.891739</td>\n",
       "      <td>0.897001</td>\n",
       "    </tr>\n",
       "    <tr>\n",
       "      <th>QDA</th>\n",
       "      <td>0.826087</td>\n",
       "      <td>0.807910</td>\n",
       "    </tr>\n",
       "    <tr>\n",
       "      <th>GNB</th>\n",
       "      <td>0.830870</td>\n",
       "      <td>0.817036</td>\n",
       "    </tr>\n",
       "    <tr>\n",
       "      <th>MNB</th>\n",
       "      <td>0.810870</td>\n",
       "      <td>0.798783</td>\n",
       "    </tr>\n",
       "    <tr>\n",
       "      <th>BNB</th>\n",
       "      <td>0.846087</td>\n",
       "      <td>0.834854</td>\n",
       "    </tr>\n",
       "  </tbody>\n",
       "</table>\n",
       "</div>"
      ],
      "text/plain": [
       "            train score  test score\n",
       "Logitistic     0.931304    0.924381\n",
       "LDA            0.891739    0.897001\n",
       "QDA            0.826087    0.807910\n",
       "GNB            0.830870    0.817036\n",
       "MNB            0.810870    0.798783\n",
       "BNB            0.846087    0.834854"
      ]
     },
     "execution_count": 16,
     "metadata": {},
     "output_type": "execute_result"
    }
   ],
   "source": [
    "# calculate the train/test accuracy\n",
    "ans = modelSeries.apply(?)\n",
    "ans.columns = ['train score', 'test score']\n",
    "ans"
   ]
  },
  {
   "cell_type": "markdown",
   "metadata": {},
   "source": [
    "## Warning on covariance matrix estimation\n",
    "- We notice that the above fitting function call produces a warning message\n",
    "- It is from **QDA**, which has difficulty to estimate **non-degenerate** per-class covariance matricies with insufficient amount of data\n",
    "- To remedy this, we use the **reg_param** parameter of **QDA** and change it from the default $0$ to $0.5$\n",
    "- This means we average the naive sample covariance with the identity matrix using $50\\%$, $50\\%$ weights\n",
    "- Please visit http://scikit-learn.org/stable/modules/generated/sklearn.discriminant_analysis.QuadraticDiscriminantAnalysis.html\n",
    "for the meaning of **reg_param**\n",
    "- What happens to the accuracies of **QDA** after this adjustment?"
   ]
  },
  {
   "cell_type": "code",
   "execution_count": 17,
   "metadata": {},
   "outputs": [
    {
     "name": "stderr",
     "output_type": "stream",
     "text": [
      "//anaconda/lib/python3.5/site-packages/sklearn/discriminant_analysis.py:682: UserWarning: Variables are collinear\n",
      "  warnings.warn(\"Variables are collinear\")\n"
     ]
    },
    {
     "data": {
      "text/html": [
       "<div>\n",
       "<style scoped>\n",
       "    .dataframe tbody tr th:only-of-type {\n",
       "        vertical-align: middle;\n",
       "    }\n",
       "\n",
       "    .dataframe tbody tr th {\n",
       "        vertical-align: top;\n",
       "    }\n",
       "\n",
       "    .dataframe thead th {\n",
       "        text-align: right;\n",
       "    }\n",
       "</style>\n",
       "<table border=\"1\" class=\"dataframe\">\n",
       "  <thead>\n",
       "    <tr style=\"text-align: right;\">\n",
       "      <th></th>\n",
       "      <th>train score</th>\n",
       "      <th>test score</th>\n",
       "    </tr>\n",
       "  </thead>\n",
       "  <tbody>\n",
       "    <tr>\n",
       "      <th>Logitistic</th>\n",
       "      <td>0.931304</td>\n",
       "      <td>0.924381</td>\n",
       "    </tr>\n",
       "    <tr>\n",
       "      <th>LDA</th>\n",
       "      <td>0.891739</td>\n",
       "      <td>0.897001</td>\n",
       "    </tr>\n",
       "    <tr>\n",
       "      <th>QDA</th>\n",
       "      <td>0.860000</td>\n",
       "      <td>0.855715</td>\n",
       "    </tr>\n",
       "    <tr>\n",
       "      <th>GNB</th>\n",
       "      <td>0.830870</td>\n",
       "      <td>0.817036</td>\n",
       "    </tr>\n",
       "    <tr>\n",
       "      <th>MNB</th>\n",
       "      <td>0.810870</td>\n",
       "      <td>0.798783</td>\n",
       "    </tr>\n",
       "    <tr>\n",
       "      <th>BNB</th>\n",
       "      <td>0.846087</td>\n",
       "      <td>0.834854</td>\n",
       "    </tr>\n",
       "  </tbody>\n",
       "</table>\n",
       "</div>"
      ],
      "text/plain": [
       "            train score  test score\n",
       "Logitistic     0.931304    0.924381\n",
       "LDA            0.891739    0.897001\n",
       "QDA            0.860000    0.855715\n",
       "GNB            0.830870    0.817036\n",
       "MNB            0.810870    0.798783\n",
       "BNB            0.846087    0.834854"
      ]
     },
     "execution_count": 17,
     "metadata": {},
     "output_type": "execute_result"
    }
   ],
   "source": [
    "modelSeries['QDA'].?\n",
    "modelSeries.apply(?) # fit all the models within the pandas Series\n",
    "ans2 = modelSeries.apply(?)\n",
    "ans2.columns = ['train score', 'test score']\n",
    "ans2"
   ]
  },
  {
   "cell_type": "markdown",
   "metadata": {},
   "source": [
    "## Where Does the Improvement Come From?\n",
    "- For **QDA**, the train score and test score improve by $3.4\\%$, $4.7\\%$, respectively.\n",
    "- The gap of train-test scores reduces, too\n",
    "- The improvement of accuracies is due to the improvement of estimation of the per-class **sample covariance** matrices\n",
    "- Unlike **LDA**, **QDA** needs to estimate a distinct covariance matrix for each class. A poor estimation often leads to\n",
    "poor model.  Even though **QDA** is more expressive than **LDA**, the performance of **LDA** is better than **QDA** both for train\n",
    "set and test set."
   ]
  },
  {
   "cell_type": "code",
   "execution_count": 18,
   "metadata": {
    "collapsed": true
   },
   "outputs": [],
   "source": [
    "# Explanation\n",
    "# For each model, we used all 57 features in the dataset.\n",
    "# We can see that in training accuracy, the highest score comes form the logistic regression, \n",
    "# while the multinomial naive bayes model is the worst one in this case.\n",
    "\n",
    "# For all models except LDA, \n",
    "# the test acuracy is lower than tihe training\n",
    "# because the algorithms slightly overfit the trained data.\n",
    "\n",
    "# Furthermore, since MNB is widely used in the spam filter problem, \n",
    "# we would think it would not perform so poorly. \n",
    "# Let's try to make it better.\n",
    "# If you have read the file \"spam.text\", \n",
    "# you may notice that only the first 48 continuous features refers to the word frequency. \n",
    "# Since we used more features than that, let's cut it down"
   ]
  },
  {
   "cell_type": "code",
   "execution_count": 19,
   "metadata": {},
   "outputs": [
    {
     "name": "stdout",
     "output_type": "stream",
     "text": [
      "The accuracy of Multinomial Naive Bayes in the training set is: 0.871304347826087\n",
      "\n",
      "The accuracy of Multinomial Naive Bayes in the test set is: 0.85832246849196\n"
     ]
    }
   ],
   "source": [
    "# create x_train for just the first 47 features & fit the model\n",
    "x_48 = train.iloc[:, 0:48]\n",
    "MNB.fit(x_48, y_train)\n",
    "\n",
    "#report the results\n",
    "print(\"The accuracy of Multinomial Naive Bayes in the training set is: \" + str(MNB.score(x_48, y_train)) + '\\n')\n",
    "print(\"The accuracy of Multinomial Naive Bayes in the test set is: \" + str(MNB.score(test.iloc[:, 0:48], y_test)))"
   ]
  },
  {
   "cell_type": "code",
   "execution_count": 20,
   "metadata": {
    "collapsed": true
   },
   "outputs": [],
   "source": [
    "# Explanation #2\n",
    "\n",
    "# While in the previous Multinomial Naive Bayes model, \n",
    "# the accuracies in the training set and test set are: 0.81086957 and 0.79878314, \n",
    "# after discarding a few features, it performs better. \n",
    "# This indicates that more features may not be better. \n",
    "# Although logisitic regression and LDA still perform better than MNB overall,\n",
    "# MNB is powerful becuase its computation complexity is low."
   ]
  },
  {
   "cell_type": "markdown",
   "metadata": {},
   "source": [
    "# Theory Questions"
   ]
  },
  {
   "cell_type": "markdown",
   "metadata": {},
   "source": [
    "1. Why is joint probability P(X, Y) equivalent to P(X)*P(Y) when events X and Y are independent?\n",
    "2. What is discriminant analysis?\n",
    "3. What makes a Naive Bayes classifier \"naive\"?\n",
    "4. When would you use Bernoulli NB vs. Multinomial NB?"
   ]
  },
  {
   "cell_type": "code",
   "execution_count": null,
   "metadata": {
    "collapsed": true
   },
   "outputs": [],
   "source": []
  }
 ],
 "metadata": {
  "kernelspec": {
   "display_name": "Python [default]",
   "language": "python",
   "name": "python3"
  },
  "language_info": {
   "codemirror_mode": {
    "name": "ipython",
    "version": 3
   },
   "file_extension": ".py",
   "mimetype": "text/x-python",
   "name": "python",
   "nbconvert_exporter": "python",
   "pygments_lexer": "ipython3",
   "version": "3.5.4"
  }
 },
 "nbformat": 4,
 "nbformat_minor": 1
}
