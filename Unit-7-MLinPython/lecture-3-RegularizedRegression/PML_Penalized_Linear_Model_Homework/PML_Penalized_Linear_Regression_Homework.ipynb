{
 "cells": [
  {
   "cell_type": "markdown",
   "metadata": {},
   "source": [
    "# Penalized Linear Regression Homework"
   ]
  },
  {
   "cell_type": "code",
   "execution_count": 1,
   "metadata": {
    "collapsed": true
   },
   "outputs": [],
   "source": [
    "import numpy as np\n",
    "import pandas as pd\n",
    "import matplotlib.pyplot as plt\n",
    "plt.style.use('ggplot')\n",
    "%matplotlib inline"
   ]
  },
  {
   "cell_type": "markdown",
   "metadata": {},
   "source": [
    "### Question 0: Compute the Ridge and Lasso Penalization term\n",
    "- Let ${\\bf\\beta} = (\\beta_0, \\beta_1, \\beta_2, \\cdots, \\beta_f)$ be the intercept-slope vector of a linear model with $f$\n",
    "features. Please write a function which computes the $L^2$ (Ridge), $L^1$ (Lasso) and Elastic-Net penalization term in terms of ${\\bf \\beta}$.\n",
    "- If the penalize option is not one of 'Ridge', 'Lasso', 'ElasticNet', the following function **Penalization_term** should\n",
    "throw an exception."
   ]
  },
  {
   "cell_type": "code",
   "execution_count": null,
   "metadata": {
    "collapsed": true
   },
   "outputs": [],
   "source": [
    "def Penalization_term(beta, alpha, rho = 0, penalize='Ridge'):\n",
    "    pass"
   ]
  },
  {
   "cell_type": "markdown",
   "metadata": {},
   "source": [
    "### Studying the Behaviors of the Contour Plots, Varying Rho and Penalization Types\n",
    "- Use the following code snippet to plot the contours of **Ridge**, **Lasso** and **ElasticNet** penalization terms.\n",
    "- For ElasticNet, please tune $\\rho=0.2, 0.5, 0.8$ to observe the shape changes of the contours.\n",
    "- For all penalization types, please set $\\alpha=1.0$.\n",
    "- The skeleton of the code is almost complete. Please fill in the '?' parts."
   ]
  },
  {
   "cell_type": "markdown",
   "metadata": {},
   "source": [
    "### Ridge"
   ]
  },
  {
   "cell_type": "code",
   "execution_count": null,
   "metadata": {
    "collapsed": true
   },
   "outputs": [],
   "source": [
    "N = 100\n",
    "rho = 0\n",
    "penalize = 'Ridge'\n",
    "plt.rcParams['figure.figsize'] = (7,7)\n",
    "x = np.linspace(-5.0, 5.0, N)\n",
    "y = np.linspace(-5.0, 5.0, N)\n",
    "beta1, beta2 = np.meshgrid(x, y) # first and second slope coefficients\n",
    "\n",
    "beta   = np.concatenate((np.zeros((N**2,1)), ?, ?), axis=1)\n",
    "\n",
    "Z = np.array(?)\n",
    "\n",
    "Z = Z.reshape((N, N))  # reshape the penalization values into a square matrix\n",
    "\n",
    "fig, ax = plt.subplots()\n",
    "CS = ax.contour(beta1, beta2, Z)\n",
    "ax.clabel(CS, inline=1, fontsize=10)\n",
    "ax.set_title('%s Penalization' %(penalize))"
   ]
  },
  {
   "cell_type": "markdown",
   "metadata": {},
   "source": [
    "### Lasso"
   ]
  },
  {
   "cell_type": "code",
   "execution_count": null,
   "metadata": {
    "collapsed": true
   },
   "outputs": [],
   "source": [
    "N = 100\n",
    "rho = 0\n",
    "penalize = 'Lasso'\n",
    "plt.rcParams['figure.figsize'] = (7,7)\n",
    "x = np.linspace(-5.0, 5.0, N)\n",
    "y = np.linspace(-5.0, 5.0, N)\n",
    "beta1, beta2 = np.meshgrid(x, y)\n",
    "\n",
    "beta   = np.concatenate((np.zeros((N**2,1)), ?, ?), axis=1)\n",
    "\n",
    "Z = np.array(?)\n",
    "\n",
    "Z = Z.reshape((N, N))  # reshape the penalization values into a square matrix\n",
    "\n",
    "fig, ax = plt.subplots()\n",
    "CS = ax.contour(beta1, beta2, Z)\n",
    "ax.clabel(CS, inline=1, fontsize=10)\n",
    "ax.set_title('%s Penalization' %(penalize))"
   ]
  },
  {
   "cell_type": "markdown",
   "metadata": {},
   "source": [
    "### ElasticNet with rho = 0.2"
   ]
  },
  {
   "cell_type": "code",
   "execution_count": null,
   "metadata": {
    "collapsed": true
   },
   "outputs": [],
   "source": [
    "N = 100\n",
    "penalize = 'ElasticNet'\n",
    "rho = 0.2\n",
    "plt.rcParams['figure.figsize'] = (7,7)\n",
    "x = np.linspace(-5.0, 5.0, N)\n",
    "y = np.linspace(-5.0, 5.0, N)\n",
    "beta1, beta2 = np.meshgrid(x, y)\n",
    "\n",
    "beta   = np.concatenate((np.zeros((N**2,1)),?, ?), axis=1) \n",
    "\n",
    "Z = np.array(?)\n",
    "\n",
    "Z = Z.reshape((N, N))  # reshape the penalization values into a square matrix\n",
    "\n",
    "fig, ax = plt.subplots()\n",
    "CS = ax.contour(beta1, beta2, Z)\n",
    "ax.clabel(CS, inline=1, fontsize=10)\n",
    "ax.set_title('%s Penalization with rho = %.3f' %(penalize, rho))"
   ]
  },
  {
   "cell_type": "markdown",
   "metadata": {},
   "source": [
    "### ElasticNet with rho = 0.5"
   ]
  },
  {
   "cell_type": "code",
   "execution_count": null,
   "metadata": {
    "collapsed": true
   },
   "outputs": [],
   "source": [
    "N = 100\n",
    "penalize = 'ElasticNet'\n",
    "rho = 0.5\n",
    "plt.rcParams['figure.figsize'] = (7,7)\n",
    "x = np.linspace(-5.0, 5.0, N)\n",
    "y = np.linspace(-5.0, 5.0, N)\n",
    "beta1, beta2 = np.meshgrid(x, y)\n",
    "\n",
    "beta   = np.concatenate((np.zeros((N**2,1)), ?, ?), axis=1)\n",
    "\n",
    "Z = np.array(?)\n",
    "\n",
    "Z = Z.reshape((N, N))  # reshape the penalization values into a square matrix\n",
    "\n",
    "fig, ax = plt.subplots()\n",
    "CS = ax.contour(beta1, beta2, Z)\n",
    "ax.clabel(CS, inline=1, fontsize=10)\n",
    "ax.set_title('%s Penalization with rho = %.3f' %(penalize, rho))"
   ]
  },
  {
   "cell_type": "markdown",
   "metadata": {},
   "source": [
    "### ElasticNet with rho = 0.8"
   ]
  },
  {
   "cell_type": "code",
   "execution_count": null,
   "metadata": {
    "collapsed": true
   },
   "outputs": [],
   "source": [
    "N = 100\n",
    "penalize = 'ElasticNet'\n",
    "rho = 0.8\n",
    "\n",
    "plt.rcParams['figure.figsize'] = (7,7)\n",
    "x = np.linspace(-5.0, 5.0, N)\n",
    "y = np.linspace(-5.0, 5.0, N)\n",
    "beta1, beta2 = np.meshgrid(x, y)\n",
    "\n",
    "beta   = np.concatenate((np.zeros((N**2,1)), ?, ?), axis=1) ## adding 0s as 0 intercepts\n",
    "\n",
    "Z = np.array(list(map(lambda t:Penalization_term(t, alpha=1, rho=rho, penalize=penalize), beta)))\n",
    "\n",
    "Z = Z.reshape((N, N))  # reshape the penalization values into a square matrix\n",
    "\n",
    "fig, ax = plt.subplots()\n",
    "CS = ax.contour(beta1, beta2, Z)\n",
    "ax.clabel(CS, inline=1, fontsize=10)\n",
    "ax.set_title('%s Penalization with rho = %.3f' %(penalize, rho))"
   ]
  },
  {
   "cell_type": "markdown",
   "metadata": {},
   "source": [
    "## Utility Dataset\n",
    "- In this problem set we use the **utilities** dataset\n",
    "- The dataset contains 'month', 'day', 'year', 'temp', 'kwh', 'ccf', 'thermsPerDay', \n",
    "'billingDays', 'totalbill', 'gasbill', 'elecbill'\n",
    "- 'kwh' means **kilo-watt hours**\n",
    "- 'ccf' means **cooling capacity factor**\n",
    "- Our plan is to use 'month', 'day', 'year', 'temp', 'kwh', 'ccf', 'thermsPerDay', \n",
    "'billingDays' to predict 'totalbill'"
   ]
  },
  {
   "cell_type": "code",
   "execution_count": 2,
   "metadata": {
    "collapsed": true
   },
   "outputs": [],
   "source": [
    "utility = pd.read_csv('utilities.csv', index_col=0)"
   ]
  },
  {
   "cell_type": "code",
   "execution_count": 3,
   "metadata": {},
   "outputs": [
    {
     "data": {
      "text/plain": [
       "(117, 12)"
      ]
     },
     "execution_count": 3,
     "metadata": {},
     "output_type": "execute_result"
    }
   ],
   "source": [
    "utility.shape"
   ]
  },
  {
   "cell_type": "code",
   "execution_count": 4,
   "metadata": {},
   "outputs": [
    {
     "data": {
      "text/plain": [
       "Index(['month', 'day', 'year', 'temp', 'kwh', 'ccf', 'thermsPerDay',\n",
       "       'billingDays', 'totalbill', 'gasbill', 'elecbill', 'notes'],\n",
       "      dtype='object')"
      ]
     },
     "execution_count": 4,
     "metadata": {},
     "output_type": "execute_result"
    }
   ],
   "source": [
    "utility.columns"
   ]
  },
  {
   "cell_type": "code",
   "execution_count": 5,
   "metadata": {
    "collapsed": true
   },
   "outputs": [],
   "source": [
    "utility = utility[?]"
   ]
  },
  {
   "cell_type": "code",
   "execution_count": 6,
   "metadata": {
    "collapsed": true
   },
   "outputs": [],
   "source": [
    "totalbill = utility.totalbill\n",
    "utility = utility.drop(?,?)"
   ]
  },
  {
   "cell_type": "code",
   "execution_count": 7,
   "metadata": {},
   "outputs": [
    {
     "data": {
      "text/plain": [
       "(117, 8)"
      ]
     },
     "execution_count": 7,
     "metadata": {},
     "output_type": "execute_result"
    }
   ],
   "source": [
    "utility.shape"
   ]
  },
  {
   "cell_type": "code",
   "execution_count": 8,
   "metadata": {
    "collapsed": true
   },
   "outputs": [],
   "source": [
    "from sklearn.linear_model import Ridge, Lasso, ElasticNet, LinearRegression\n",
    "ridge = Ridge()\n",
    "lasso = Lasso()\n",
    "net   = ElasticNet()"
   ]
  },
  {
   "cell_type": "markdown",
   "metadata": {},
   "source": [
    "## Question 1\n",
    "### Part A. \n",
    "- Please train a Ridge regression model using **Ridge** setting $\\alpha = 1.0$ on the utility data set and report its $R^2$"
   ]
  },
  {
   "cell_type": "code",
   "execution_count": 9,
   "metadata": {},
   "outputs": [
    {
     "data": {
      "text/plain": [
       "0.9159400865639724"
      ]
     },
     "execution_count": 9,
     "metadata": {},
     "output_type": "execute_result"
    }
   ],
   "source": [
    "ridge.set_params(?)\n",
    "ridge.fit(?,?)\n",
    "ridge.score(?,?)"
   ]
  },
  {
   "cell_type": "markdown",
   "metadata": {},
   "source": [
    "### Question 1 Part B. \n",
    "- Please set the alphaRange to **np.linspace(0.001, 200, 20)** and run a manual grid-search (for-loop). \n",
    "- Record the intercepts, coefficients and $R^2$ appending them to lists\n",
    "- Visualize the shrinkage of intercept, slopes and $R^2$ with varying alphas\n",
    "- What would happen to $R^2$ when $\\alpha\\mapsto \\infty$"
   ]
  },
  {
   "cell_type": "code",
   "execution_count": 10,
   "metadata": {
    "collapsed": true
   },
   "outputs": [],
   "source": [
    "coefs = []\n",
    "intercepts = []\n",
    "R2  = []\n",
    "alphaRange = np.linspace(1e-3,200,20)\n",
    "for alpha in alphaRange:\n",
    "          ridge.set_params(?)  \n",
    "          ridge.fit(?,?)\n",
    "          intercepts.append(?)\n",
    "          coefs.append(?)\n",
    "          R2.append(?)  "
   ]
  },
  {
   "cell_type": "code",
   "execution_count": 11,
   "metadata": {
    "scrolled": true
   },
   "outputs": [
    {
     "data": {
      "text/plain": [
       "Text(0.5,1,'Change of Ridge Intercept Varying Alpha')"
      ]
     },
     "execution_count": 11,
     "metadata": {},
     "output_type": "execute_result"
    },
    {
     "data": {
      "image/png": "[encoded data removed]",
      "text/plain": [
       "<Figure size 432x288 with 1 Axes>"
      ]
     },
     "metadata": {},
     "output_type": "display_data"
    }
   ],
   "source": [
    "plt.plot(alphaRange, intercepts)\n",
    "plt.title('Change of Ridge Intercept Varying Alpha')"
   ]
  },
  {
   "cell_type": "code",
   "execution_count": 12,
   "metadata": {},
   "outputs": [
    {
     "data": {
      "text/plain": [
       "Text(0.5,1,'Change of Ridge Slopes Varying Alpha')"
      ]
     },
     "execution_count": 12,
     "metadata": {},
     "output_type": "execute_result"
    },
    {
     "data": {
      "image/png": "[encoded data removed]",
      "text/plain": [
       "<Figure size 432x288 with 1 Axes>"
      ]
     },
     "metadata": {},
     "output_type": "display_data"
    }
   ],
   "source": [
    "coefs = pd.DataFrame(np.array(coefs), columns=utility.columns)\n",
    "\n",
    "for name in coefs.columns:\n",
    "    plt.plot(?,?, label=?)\n",
    "plt.legend(loc=1)    \n",
    "plt.title('Change of Ridge Slopes Varying Alpha')"
   ]
  },
  {
   "cell_type": "code",
   "execution_count": 13,
   "metadata": {},
   "outputs": [
    {
     "data": {
      "text/plain": [
       "Text(0.5,1,'Change of $R^2$ Varying Alphas')"
      ]
     },
     "execution_count": 13,
     "metadata": {},
     "output_type": "execute_result"
    },
    {
     "data": {
      "image/png": "[encoded data removed]",
      "text/plain": [
       "<Figure size 432x288 with 1 Axes>"
      ]
     },
     "metadata": {},
     "output_type": "display_data"
    }
   ],
   "source": [
    "plt.plot(?, ?)\n",
    "plt.title(r'Change of $R^2$ Varying Alphas')"
   ]
  },
  {
   "cell_type": "markdown",
   "metadata": {},
   "source": [
    "## Q1 Part C \n",
    "**np.random.choice** (with replace=False) can be used to randomly select an index subset of range(0,117) \n",
    "- Use it to split the above utility data into a $70\\%$ train-set and a $30\\%$ test set. Please set the random seed to 1 by using np.random.seed(1) command\n",
    "- Repeat the manual grid search in step B. to fit the models (with varying $\\alpha$) on the train set\n",
    "- Visualize the behavior of train set $R^2$ and test set $R^2$\n",
    "- Estimate the hyperparameter alpha where the train set $R^2$ and test set $R^2$ match\n",
    "- Refit the model on the total data set at this particular alpha and report its intercept and slope coefficients"
   ]
  },
  {
   "cell_type": "code",
   "execution_count": 14,
   "metadata": {
    "collapsed": true
   },
   "outputs": [],
   "source": [
    "np.random.seed(1)\n",
    "testIdxes = np.random.choice(?, size= 35, replace=?)\n",
    "trainIdxes = ?\n",
    "\n",
    "trainX = utility.iloc[?]\n",
    "testX  = utility.iloc[?]\n",
    "trainY = totalbill.iloc[?]\n",
    "testY  = totalbill.iloc[?]"
   ]
  },
  {
   "cell_type": "code",
   "execution_count": 15,
   "metadata": {
    "collapsed": true
   },
   "outputs": [],
   "source": [
    "train_R2 = []\n",
    "test_R2  = []\n",
    "alphaRange = np.linspace(1e-3,200,20)\n",
    "for alpha in alphaRange:\n",
    "          ridge.set_params(alpha=?, normalize=False)  \n",
    "          ridge.fit(?,?)\n",
    "          train_R2.append(?)\n",
    "          test_R2.append(?)"
   ]
  },
  {
   "cell_type": "code",
   "execution_count": 16,
   "metadata": {
    "scrolled": true
   },
   "outputs": [
    {
     "data": {
      "text/plain": [
       "<matplotlib.legend.Legend at 0x1a258e4f98>"
      ]
     },
     "execution_count": 16,
     "metadata": {},
     "output_type": "execute_result"
    },
    {
     "data": {
      "image/png": "[encoded data removed]",
      "text/plain": [
       "<Figure size 432x288 with 1 Axes>"
      ]
     },
     "metadata": {},
     "output_type": "display_data"
    }
   ],
   "source": [
    "plt.plot(alphaRange, train_R2, label=r'train set $R^2$')\n",
    "plt.plot(alphaRange, test_R2, label=r'test set $R^2$')\n",
    "plt.legend(loc=4)"
   ]
  },
  {
   "cell_type": "code",
   "execution_count": 17,
   "metadata": {},
   "outputs": [
    {
     "name": "stdout",
     "output_type": "stream",
     "text": [
      "The intercept is -10542.2684\n",
      "The slopes are month          -0.037984\n",
      "day            -0.422859\n",
      "year            5.289738\n",
      "temp           -0.130493\n",
      "kwh             0.128501\n",
      "ccf             0.714822\n",
      "thermsPerDay    0.605363\n",
      "billingDays    -1.489253\n",
      "dtype: float64\n"
     ]
    }
   ],
   "source": [
    "ridge.set_params(alpha=?)\n",
    "ridge.fit(utility, totalbill)\n",
    "coefDF = pd.Series(ridge.coef_, index=utility.columns)\n",
    "print('The intercept is %.4f' %(ridge.intercept_))\n",
    "print('The slopes are \\n %s' %(coefDF))"
   ]
  },
  {
   "cell_type": "markdown",
   "metadata": {},
   "source": [
    "## Question 2\n",
    "- Repeat the above analysis replacing **ridge** by **lasso**, alphaRange by np.linspace(1e-3,20,20), \n",
    "and turn on **normalize=True**\n",
    "- Finally when the hyperparameter alpha is set at the optimal level \n",
    "(i.e. where the train set $R^2$ and test set $R^2$ match approximately), rank the slope coefficients by their absoluate values. Determine the relative importance of the features. \n",
    "- Which features are removed in this **lasso** model?\n",
    "\n",
    "- **Remark**: When you are fitting on the train set, the default setting of **lasso** may not converge. You might need\n",
    "    to adjust **max_iter** upward through set_params to improve convergence"
   ]
  },
  {
   "cell_type": "code",
   "execution_count": 18,
   "metadata": {},
   "outputs": [
    {
     "data": {
      "text/plain": [
       "Lasso(alpha=1, copy_X=True, fit_intercept=True, max_iter=1000, normalize=True,\n",
       "   positive=False, precompute=False, random_state=None, selection='cyclic',\n",
       "   tol=0.0001, warm_start=False)"
      ]
     },
     "execution_count": 18,
     "metadata": {},
     "output_type": "execute_result"
    }
   ],
   "source": [
    "lasso.set_params(alpha=?, normalize=True)"
   ]
  },
  {
   "cell_type": "code",
   "execution_count": 28,
   "metadata": {},
   "outputs": [
    {
     "name": "stdout",
     "output_type": "stream",
     "text": [
      "The intercept is -8228.9424\n",
      "The slopes are \n",
      "month           0.000000\n",
      "day             0.000000\n",
      "year            4.120959\n",
      "temp           -0.192914\n",
      "kwh             0.106295\n",
      "ccf             0.348468\n",
      "thermsPerDay    9.193747\n",
      "billingDays     0.000000\n",
      "dtype: float64\n"
     ]
    }
   ],
   "source": [
    "lasso.fit(?, ?)\n",
    "print('The intercept is %.4f' %())\n",
    "lassoCoef = pd.Series(?, index=utility.columns)\n",
    "print('The slopes are \\n%s' %(lassoCoef))"
   ]
  },
  {
   "cell_type": "code",
   "execution_count": 20,
   "metadata": {
    "collapsed": true
   },
   "outputs": [],
   "source": [
    "coefs = []\n",
    "intercepts = []\n",
    "R2  = []\n",
    "alphaRange = np.linspace(1e-3,20,20)\n",
    "for alpha in alphaRange:\n",
    "            lasso.set_params(alpha=?, normalize = True)  \n",
    "            lasso.fit(?, ?)\n",
    "            intercepts.append(?)\n",
    "            coefs.append(?)\n",
    "            R2.append(?)  "
   ]
  },
  {
   "cell_type": "code",
   "execution_count": 21,
   "metadata": {
    "scrolled": false
   },
   "outputs": [
    {
     "data": {
      "text/plain": [
       "Text(0.5,1,'Change of Lasso Intercept Varying Alpha')"
      ]
     },
     "execution_count": 21,
     "metadata": {},
     "output_type": "execute_result"
    },
    {
     "data": {
      "image/png": "[encoded data removed]",
      "text/plain": [
       "<Figure size 432x288 with 1 Axes>"
      ]
     },
     "metadata": {},
     "output_type": "display_data"
    }
   ],
   "source": [
    "plt.plot(alphaRange, intercepts)\n",
    "plt.title('Change of Lasso Intercept Varying Alpha')"
   ]
  },
  {
   "cell_type": "code",
   "execution_count": 22,
   "metadata": {},
   "outputs": [
    {
     "data": {
      "text/plain": [
       "Text(0.5,1,'Change of Lasso Slopes Varying Alpha')"
      ]
     },
     "execution_count": 22,
     "metadata": {},
     "output_type": "execute_result"
    },
    {
     "data": {
      "image/png": "[encoded data removed]",
      "text/plain": [
       "<Figure size 432x288 with 1 Axes>"
      ]
     },
     "metadata": {},
     "output_type": "display_data"
    }
   ],
   "source": [
    "coefs = pd.DataFrame(?, columns=utility.columns)\n",
    "\n",
    "for name in coefs.columns:\n",
    "    plt.plot(alphaRange, coefs[name], label=name)\n",
    "plt.legend(loc=1)    \n",
    "plt.title('Change of Lasso Slopes Varying Alpha')"
   ]
  },
  {
   "cell_type": "code",
   "execution_count": 23,
   "metadata": {
    "collapsed": true
   },
   "outputs": [],
   "source": [
    "train_R2 = []\n",
    "test_R2  = []\n",
    "alphaRange = np.linspace(1e-3,2,20)\n",
    "for alpha in alphaRange:\n",
    "          lasso.set_params(alpha=?, normalize=True, max_iter=2000)  # increase the num_iter to improve convergence\n",
    "          lasso.fit(?,?)\n",
    "          train_R2.append(?)\n",
    "          test_R2.append(?)"
   ]
  },
  {
   "cell_type": "code",
   "execution_count": 24,
   "metadata": {
    "scrolled": true
   },
   "outputs": [
    {
     "data": {
      "text/plain": [
       "<matplotlib.legend.Legend at 0x1a25bf4630>"
      ]
     },
     "execution_count": 24,
     "metadata": {},
     "output_type": "execute_result"
    },
    {
     "data": {
      "image/png": "[encoded data removed]",
      "text/plain": [
       "<Figure size 432x288 with 1 Axes>"
      ]
     },
     "metadata": {},
     "output_type": "display_data"
    }
   ],
   "source": [
    "plt.plot(alphaRange, train_R2, label=r'train set $R^2$')\n",
    "plt.plot(alphaRange, test_R2, label=r'test set $R^2$')\n",
    "plt.legend(loc=4)"
   ]
  },
  {
   "cell_type": "markdown",
   "metadata": {},
   "source": [
    "- By visual inspection, the optimal hyperparameter happens at about $\\alpha = 0.35$\n",
    "- Fit a **lasso** model using the total dataset"
   ]
  },
  {
   "cell_type": "code",
   "execution_count": 25,
   "metadata": {},
   "outputs": [
    {
     "name": "stdout",
     "output_type": "stream",
     "text": [
      "The intercept is -8228.9424\n",
      "The slopes are month           0.000000\n",
      "day             0.000000\n",
      "year            4.120959\n",
      "temp           -0.192914\n",
      "kwh             0.106295\n",
      "ccf             0.348468\n",
      "thermsPerDay    9.193747\n",
      "billingDays     0.000000\n",
      "dtype: float64\n"
     ]
    }
   ],
   "source": [
    "lasso.set_params(alpha=?, normalize=True)\n",
    "lasso.fit(?, ?)\n",
    "print('The intercept is %.4f' %(?))\n",
    "lassoCoef = pd.Series(?, index=utility.columns)\n",
    "print('The slopes are \\n %s' %(lassoCoef))"
   ]
  },
  {
   "cell_type": "code",
   "execution_count": 26,
   "metadata": {},
   "outputs": [
    {
     "data": {
      "text/plain": [
       "thermsPerDay    9.193747\n",
       "year            4.120959\n",
       "ccf             0.348468\n",
       "temp            0.192914\n",
       "kwh             0.106295\n",
       "billingDays     0.000000\n",
       "day             0.000000\n",
       "month           0.000000\n",
       "dtype: float64"
      ]
     },
     "execution_count": 26,
     "metadata": {},
     "output_type": "execute_result"
    }
   ],
   "source": [
    "sortedCoefs = ?.sort_values(ascending=False)\n",
    "sortedCoefs"
   ]
  },
  {
   "cell_type": "code",
   "execution_count": 27,
   "metadata": {},
   "outputs": [
    {
     "data": {
      "text/plain": [
       "Index(['thermsPerDay', 'year', 'ccf', 'temp', 'kwh', 'billingDays', 'day',\n",
       "       'month'],\n",
       "      dtype='object')"
      ]
     },
     "execution_count": 27,
     "metadata": {},
     "output_type": "execute_result"
    }
   ],
   "source": [
    "# The order of feature importance, according to their absolute values, is\n",
    "sortedCoefs.index"
   ]
  },
  {
   "cell_type": "markdown",
   "metadata": {},
   "source": [
    "- ? features are eliminated by this **lasso** model\n",
    "- Top three most important features are ?"
   ]
  },
  {
   "cell_type": "markdown",
   "metadata": {},
   "source": [
    "## Question 3 \n",
    "- Repeat the above analysis replacing **Lasso** by **ElasticNet**. \n",
    "- Set alaphaRange to be np.linspace(1e-2, 2, 40)\n",
    "- Set rhoRange to be np.linspace(0.01, 1, 30)\n",
    "- Turn on the **normalize** flag\n",
    "- Run a double for loop and record the train-set, test-set $R^2$ and model coefficients\n",
    "- Visualize the gap between train-set $R^2$ and test-set $R^2$ in 3D"
   ]
  },
  {
   "cell_type": "code",
   "execution_count": 101,
   "metadata": {
    "collapsed": true
   },
   "outputs": [],
   "source": [
    "alphaSize  = 40\n",
    "rhoSize    = 30\n",
    "alphaRange = np.linspace(1e-2, 10, alphaSize)\n",
    "rhoRange   = np.linspace(0.01, 1, rhoSize)\n",
    "trainR2    = np.zeros((alphaSize, rhoSize))\n",
    "testR2     = np.zeros((alphaSize, rhoSize))\n",
    "intercepts = np.zeros((alphaSize, rhoSize))\n",
    "coefs      = np.zeros((alphaSize, rhoSize, 8))\n",
    "\n",
    "net.set_params(normalize=True)\n",
    "\n",
    "for alphaIdx, alpha in enumerate(alphaRange):\n",
    "    for rhoIdx, rho in enumerate(rhoRange):\n",
    "        pass"
   ]
  },
  {
   "cell_type": "code",
   "execution_count": 102,
   "metadata": {},
   "outputs": [
    {
     "data": {
      "text/plain": [
       "<matplotlib.colorbar.Colorbar at 0x1a28df8198>"
      ]
     },
     "execution_count": 102,
     "metadata": {},
     "output_type": "execute_result"
    },
    {
     "data": {
      "image/png": "[encoded data removed]",
      "text/plain": [
       "<Figure size 432x288 with 2 Axes>"
      ]
     },
     "metadata": {},
     "output_type": "display_data"
    }
   ],
   "source": [
    "from mpl_toolkits.mplot3d import Axes3D\n",
    "from matplotlib.ticker import LinearLocator, FormatStrFormatter\n",
    "from matplotlib import cm\n",
    "\n",
    "fig = plt.figure()\n",
    "ax = fig.gca(projection='3d')\n",
    "\n",
    "# Make data\n",
    "\n",
    "x = alphaRange\n",
    "y = rhoRange\n",
    "X, Y = np.meshgrid(x, y)  # X and Y are of shape (rhoRange, alphaRange)\n",
    "\n",
    "Z = ? # This is the only place to fill in within this code segment \n",
    "\n",
    "\n",
    "# Plot the surface\n",
    "surf = ax.plot_surface(X, Y, Z, cmap=cm.coolwarm, linewidth=0, antialiased=False)\n",
    "ax.set_zlim(np.min(Z) - 0.01, np.max(Z) + 0.01)\n",
    "ax.view_init(30, 100)\n",
    "ax.zaxis.set_major_locator(LinearLocator(10))\n",
    "ax.zaxis.set_major_formatter(FormatStrFormatter('%.02f'))\n",
    "plt.title(r'3D plot of ElasticNet coef of determination $R^2$')\n",
    "# Add a color bar which maps values to colors.\n",
    "fig.colorbar(surf, shrink=0.5, aspect=10)"
   ]
  },
  {
   "cell_type": "markdown",
   "metadata": {
    "collapsed": true
   },
   "source": [
    "## ExtraCredit--Optional \n",
    "- Find the grid point index where the absolute value of the $R^2$ gap is minimized\n",
    "- Report the $\\alpha$ and $\\rho$ within the grid which minimizes the absolute $R^2$ gap\n",
    "- Plot the slope vs alphaRange, coefficients vs alphaRange at the minimal rho (i.e. l1_ratio)\n",
    "- Which features' slopes are exactly zero at $\\alpha=10$?\n",
    "\n",
    "## Hint:\n",
    "- To find the minimizing-index of a numpy array, np.argmin is useful\n",
    "- It outputs the flattened index of a 1D array instead of multiindex of a 2D array\n",
    "- To convert the flattened index back to 2D multiindex, please composite np.argmin with np.unravel_index"
   ]
  },
  {
   "cell_type": "code",
   "execution_count": 103,
   "metadata": {},
   "outputs": [
    {
     "data": {
      "text/plain": [
       "(12, 26)"
      ]
     },
     "execution_count": 103,
     "metadata": {},
     "output_type": "execute_result"
    }
   ],
   "source": [
    "?"
   ]
  },
  {
   "cell_type": "code",
   "execution_count": 104,
   "metadata": {
    "scrolled": true
   },
   "outputs": [
    {
     "data": {
      "text/plain": [
       "Text(0.5,1,'Shrinkage of ElasticNet Intercept')"
      ]
     },
     "execution_count": 104,
     "metadata": {},
     "output_type": "execute_result"
    },
    {
     "data": {
      "image/png": "[encoded data removed]",
      "text/plain": [
       "<Figure size 432x288 with 1 Axes>"
      ]
     },
     "metadata": {},
     "output_type": "display_data"
    }
   ],
   "source": [
    "plt.plot(alphaRange, intercepts[:,?])\n",
    "plt.title('Shrinkage of ElasticNet Intercept')"
   ]
  },
  {
   "cell_type": "code",
   "execution_count": 105,
   "metadata": {},
   "outputs": [
    {
     "data": {
      "text/plain": [
       "<matplotlib.legend.Legend at 0x1a29215b70>"
      ]
     },
     "execution_count": 105,
     "metadata": {},
     "output_type": "execute_result"
    },
    {
     "data": {
      "image/png": "[encoded data removed]",
      "text/plain": [
       "<Figure size 432x288 with 1 Axes>"
      ]
     },
     "metadata": {},
     "output_type": "display_data"
    }
   ],
   "source": [
    "coefs2 = pd.DataFrame(np.array(coefs[:,?,:]), columns=utility.columns)\n",
    "\n",
    "for name in coefs2.columns:\n",
    "    plt.plot(alphaRange, coefs2[name], label=name)\n",
    "plt.legend(loc=1)   \n",
    "plt.title('Shrinkage of ElasticNet Slopes')"
   ]
  },
  {
   "cell_type": "code",
   "execution_count": 108,
   "metadata": {},
   "outputs": [
    {
     "data": {
      "text/plain": [
       "Index(['month', 'day', 'year', 'kwh', 'billingDays'], dtype='object')"
      ]
     },
     "execution_count": 108,
     "metadata": {},
     "output_type": "execute_result"
    }
   ],
   "source": [
    "## The following lists the names of the features whose slopes drop to 0 at alpha = 10\n",
    "coefs2.columns[coefs2.iloc[-1,:] == 0]"
   ]
  },
  {
   "cell_type": "code",
   "execution_count": null,
   "metadata": {
    "collapsed": true
   },
   "outputs": [],
   "source": []
  }
 ],
 "metadata": {
  "kernelspec": {
   "display_name": "Python (3.6)",
   "language": "python",
   "name": "py36"
  },
  "language_info": {
   "codemirror_mode": {
    "name": "ipython",
    "version": 3
   },
   "file_extension": ".py",
   "mimetype": "text/x-python",
   "name": "python",
   "nbconvert_exporter": "python",
   "pygments_lexer": "ipython3",
   "version": "3.6.7"
  }
 },
 "nbformat": 4,
 "nbformat_minor": 2
}
